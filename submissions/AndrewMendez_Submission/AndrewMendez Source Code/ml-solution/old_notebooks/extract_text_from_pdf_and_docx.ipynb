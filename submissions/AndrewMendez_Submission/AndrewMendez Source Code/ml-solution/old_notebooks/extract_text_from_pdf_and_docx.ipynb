{
 "cells": [
  {
   "cell_type": "code",
   "execution_count": 4,
   "metadata": {},
   "outputs": [],
   "source": [
    "import textract\n",
    "text = textract.process(\"../reference/sample_eula_1.pdf\",encoding = 'utf-8',method = 'pdftotext')\n"
   ]
  },
  {
   "cell_type": "code",
   "execution_count": 1,
   "metadata": {},
   "outputs": [],
   "source": [
    "# text"
   ]
  },
  {
   "cell_type": "code",
   "execution_count": 5,
   "metadata": {},
   "outputs": [],
   "source": [
    "a = text.decode('utf8', errors = 'ignore').strip().split(\"\\n\\n\")\n",
    "a = [i.replace('\\n',' ') for i in a]\n",
    "# a"
   ]
  },
  {
   "cell_type": "markdown",
   "metadata": {},
   "source": [
    "# Pretrained dataset"
   ]
  },
  {
   "cell_type": "markdown",
   "metadata": {},
   "source": [
    "a large set of data: past procurements and their level of conformance (graded as 'red' for entirely non conformant, 'green' for fully conformant, and 'yellow' for partially conformant). "
   ]
  },
  {
   "cell_type": "code",
   "execution_count": 8,
   "metadata": {},
   "outputs": [],
   "source": [
    "import numpy as np \n",
    "import pandas as pd\n",
    "text=[]\n",
    "target = []\n",
    "pretrained = np.load('../reference/train.pkl',allow_pickle=True)\n",
    "for elem in pretrained:\n",
    "    text.append(elem['text'])\n",
    "    target.append(elem['target'])\n",
    "labeled_df = pd.DataFrame(data=[text,target]).transpose()\n",
    "labeled_df.columns = ['text','target']\n",
    "labeled_df.to_csv('fbo-srt-dataset.csv',sep=',',index=False)"
   ]
  },
  {
   "cell_type": "code",
   "execution_count": 10,
   "metadata": {},
   "outputs": [
    {
     "output_type": "execute_result",
     "data": {
      "text/plain": "0    722\n1    271\nName: target, dtype: int64"
     },
     "metadata": {},
     "execution_count": 10
    }
   ],
   "source": [
    "labeled_df=pd.read_csv('fbo-srt-dataset.csv')\n",
    "labeled_df['target'].value_counts()"
   ]
  },
  {
   "cell_type": "code",
   "execution_count": null,
   "metadata": {},
   "outputs": [],
   "source": []
  }
 ],
 "metadata": {
  "language_info": {
   "codemirror_mode": {
    "name": "ipython",
    "version": 3
   },
   "file_extension": ".py",
   "mimetype": "text/x-python",
   "name": "python",
   "nbconvert_exporter": "python",
   "pygments_lexer": "ipython3",
   "version": "3.6.10-final"
  },
  "orig_nbformat": 2,
  "kernelspec": {
   "name": "python361064bitgsaeulaenvcondae052ce93003d41179b492ebba2767ec8",
   "display_name": "Python 3.6.10 64-bit ('gsa_eula_env': conda)"
  }
 },
 "nbformat": 4,
 "nbformat_minor": 2
}