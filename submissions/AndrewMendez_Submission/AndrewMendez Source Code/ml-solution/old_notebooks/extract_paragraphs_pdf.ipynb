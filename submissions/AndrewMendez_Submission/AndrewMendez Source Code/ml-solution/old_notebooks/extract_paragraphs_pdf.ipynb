{
 "cells": [
  {
   "cell_type": "markdown",
   "metadata": {},
   "source": [
    "# Notebook to Extract clauses from PDF documents\n",
    "## Notebook extracts text (per page) from a PDF\n",
    "## Then for each page, we preprocess the text\n",
    "### Uses Textract and PDFMiner.six"
   ]
  },
  {
   "cell_type": "markdown",
   "metadata": {},
   "source": [
    "## Links to learn more on how to process pdf using PDFMiner\n",
    "* https://gist.github.com/jmcarp/7105045\n",
    "* https://pdfminersix.readthedocs.io/en/latest/tutorial/composable.html\n",
    "* "
   ]
  },
  {
   "cell_type": "code",
   "execution_count": 6,
   "metadata": {},
   "outputs": [],
   "source": [
    "import pandas as pd\n",
    "from pdfminer.pdfinterp import PDFResourceManager, PDFPageInterpreter#process_pdf\n",
    "from pdfminer.pdfpage import PDFPage\n",
    "from pdfminer.converter import TextConverter\n",
    "from pdfminer.layout import LAParams\n",
    "from io import StringIO\n"
   ]
  },
  {
   "cell_type": "code",
   "execution_count": 49,
   "metadata": {
    "tags": []
   },
   "outputs": [],
   "source": [
    "# from io import StringIO\n",
    "\n",
    "# from pdfminer.converter import TextConverter\n",
    "# from pdfminer.layout import LAParams\n",
    "# from pdfminer.pdfdocument import PDFDocument\n",
    "# from pdfminer.pdfinterp import PDFResourceManager, PDFPageInterpreter\n",
    "# from pdfminer.pdfpage import PDFPage\n",
    "# from pdfminer.pdfparser import PDFParser\n",
    "\n",
    "# output_string = StringIO()\n",
    "# with open('../reference/sample_eula_1.pdf', 'rb') as in_file:\n",
    "#     parser = PDFParser(in_file)\n",
    "#     doc = PDFDocument(parser)\n",
    "#     rsrcmgr = PDFResourceManager()\n",
    "#     device = TextConverter(rsrcmgr, output_string,codec='utf-8' ,laparams=LAParams())\n",
    "#     interpreter = PDFPageInterpreter(rsrcmgr, device)\n",
    "#     num=0\n",
    "#     for page in PDFPage.create_pages(doc):\n",
    "#         print(num)\n",
    "#         interpreter.process_page(page)\n",
    "#         num+=1\n",
    "#     print(output_string.getvalue().encode('utf-8'))\n",
    "\n"
   ]
  },
  {
   "cell_type": "code",
   "execution_count": 50,
   "metadata": {
    "tags": []
   },
   "outputs": [],
   "source": [
    "# from pdfminer.converter imprt PDFRes"
   ]
  },
  {
   "cell_type": "code",
   "execution_count": 2,
   "metadata": {},
   "outputs": [
    {
     "output_type": "execute_result",
     "data": {
      "text/plain": "'\\nExtract PDF text using PDFMiner. Adapted from\\nhttp://stackoverflow.com/questions/5725278/python-help-using-pdfminer-as-a-library\\n'"
     },
     "metadata": {},
     "execution_count": 2
    }
   ],
   "source": [
    "\"\"\"\n",
    "Extract PDF text using PDFMiner. Adapted from\n",
    "http://stackoverflow.com/questions/5725278/python-help-using-pdfminer-as-a-library\n",
    "\"\"\"\n",
    "\n",
    "# def pdf_to_text(pdfname):\n",
    "\n",
    "#     # PDFMiner boilerplate\n",
    "#     rsrcmgr = PDFResourceManager()\n",
    "#     sio = StringIO()\n",
    "#     codec = 'utf-8'\n",
    "#     laparams = LAParams(line_margin=0.1)\n",
    "#     device = TextConverter(rsrcmgr, sio, codec=codec, laparams=laparams)\n",
    "#     interpreter = PDFPageInterpreter(rsrcmgr, device)\n",
    "\n",
    "#     # Extract text\n",
    "#     fp = open(pdfname, 'rb')\n",
    "#     for page in PDFPage.get_pages(fp):\n",
    "#         interpreter.process_page(page)\n",
    "#     fp.close()\n",
    "\n",
    "#     # Get text from StringIO\n",
    "#     text = sio.getvalue()\n",
    "\n",
    "#     # Cleanup\n",
    "#     device.close()\n",
    "#     sio.close()\n",
    "\n",
    "#     return text\n",
    "# text = pdf_to_text('../reference/sample_eula_1.pdf')"
   ]
  },
  {
   "cell_type": "markdown",
   "metadata": {},
   "source": [
    "# By default, PDFMINER STACKS PAGES LIKE A STACK, TOP IS LAST PAGE, END OF TEXT IS BEGINNING\n"
   ]
  },
  {
   "cell_type": "code",
   "execution_count": 48,
   "metadata": {},
   "outputs": [],
   "source": [
    "# text"
   ]
  },
  {
   "cell_type": "markdown",
   "metadata": {},
   "source": [
    "# Method 3\n",
    "* https://stackoverflow.com/questions/12605170/extract-text-per-page-with-python-pdfminer\n",
    "* http://denis.papathanasiou.org/archive/2010.08.04.post.pdf \n"
   ]
  },
  {
   "cell_type": "code",
   "execution_count": 34,
   "metadata": {},
   "outputs": [],
   "source": [
    "# class PDFDocText:\n",
    "#     def __init__():\n",
    "#         self.num_pages=num_pages\n",
    "#         self.pages=pages\n",
    "    "
   ]
  },
  {
   "cell_type": "code",
   "execution_count": 19,
   "metadata": {
    "tags": []
   },
   "outputs": [
    {
     "output_type": "stream",
     "name": "stdout",
     "text": "Processing page 0 from ../reference/sample_eula_1.pdf\nProcessing page 1 from ../reference/sample_eula_1.pdf\nProcessing page 2 from ../reference/sample_eula_1.pdf\nProcessing page 3 from ../reference/sample_eula_1.pdf\nProcessing page 4 from ../reference/sample_eula_1.pdf\nProcessing page 5 from ../reference/sample_eula_1.pdf\nProcessing page 6 from ../reference/sample_eula_1.pdf\nProcessing page 7 from ../reference/sample_eula_1.pdf\nProcessing page 8 from ../reference/sample_eula_1.pdf\nProcessing page 9 from ../reference/sample_eula_1.pdf\nProcessing page 10 from ../reference/sample_eula_1.pdf\nProcessing page 11 from ../reference/sample_eula_1.pdf\nProcessing page 12 from ../reference/sample_eula_1.pdf\n"
    }
   ],
   "source": [
    "def extract_clauses_from_pdf(path_to_pdf):\n",
    "    '''\n",
    "    Extracts clauses from pdf\n",
    "    First segments PDF into pages\n",
    "    Then extracts clauses from all paragraphs in page\n",
    "    '''\n",
    "    fp = open(path_to_pdf, 'rb')\n",
    "    rsrcmgr = PDFResourceManager()\n",
    "    retstr = StringIO()\n",
    "    # print(type(retstr))\n",
    "    codec = 'utf-8'\n",
    "    laparams = LAParams(line_margin=0.1)\n",
    "    device = TextConverter(rsrcmgr, retstr, codec=codec, laparams=laparams)\n",
    "    interpreter = PDFPageInterpreter(rsrcmgr, device)\n",
    "\n",
    "    page_no = 0\n",
    "    pages = []\n",
    "    for pageNumber, page in enumerate(PDFPage.get_pages(fp)):\n",
    "        print('Processing page {} from {}'.format(page_no,path_to_pdf))\n",
    "        # if pageNumber == page_no:\n",
    "        interpreter.process_page(page)\n",
    "\n",
    "        data = retstr.getvalue()\n",
    "        pages.append(data)\n",
    "\n",
    "        # with open(os.path.join('Files/Company_list/0010/text_parsed/2017AR', f'pdf page {page_no}.txt'), 'wb') as file:\n",
    "        #     file.write(data.encode('utf-8'))\n",
    "        data = ''\n",
    "        retstr.truncate(0)\n",
    "        retstr.seek(0)\n",
    "\n",
    "        page_no += 1\n",
    "    # split pages into claues\n",
    "    clauses_per_page = []\n",
    "    for p in pages:\n",
    "        clauses_unormalized = [i.replace(\"\\n\",\" \") for i in p.split(\"\\n\\n\")]\n",
    "        clauses_per_page.append(clauses_unormalized)\n",
    "    return clauses_per_page\n",
    "pages = extract_clauses_from_pdf('../reference/sample_eula_1.pdf')"
   ]
  },
  {
   "cell_type": "code",
   "execution_count": 11,
   "metadata": {},
   "outputs": [
    {
     "output_type": "execute_result",
     "data": {
      "text/plain": "13"
     },
     "metadata": {},
     "execution_count": 11
    }
   ],
   "source": [
    "len(pages)"
   ]
  },
  {
   "cell_type": "code",
   "execution_count": 23,
   "metadata": {
    "tags": []
   },
   "outputs": [
    {
     "output_type": "execute_result",
     "data": {
      "text/plain": "[' ',\n ' ',\n ' ',\n 'MASTER SERVICES SUBSCRIPTION AGREEMENT ',\n 'Exhibit C ',\n 'Service Level Agreement ',\n 'COMPANY’ service level agreement (“SLA”) for its hosted “software as a service” decision support system (the “Services”) is described ',\n 'below. ',\n '1.  Definitions. ',\n 'b. ',\n 'c. ',\n 'd. ',\n 'e. ',\n 'f. ',\n 'hours. ',\n 'a. ',\n '“Emergency Maintenance” means downtime of the Services outside of the Scheduled Maintenance Window hours that is required to ',\n 'complete the application of urgent patches or fixes, or to undertake other urgent maintenance activities. If Emergency Maintenance is ',\n 'required, COMPANY will immediately contact Client and provide the expected start time of the Emergency Maintenance, its planned ',\n 'duration, and whether COMPANY expects the Services to be unavailable during the Emergency Maintenance. ',\n '“Monthly Subscription Fee” means one-twelfth of the annual fee applicable to the Services. ',\n '“Scheduled Maintenance Window” means the window during which scheduled maintenance of the Services may be performed. There ',\n 'is generally one Scheduled Maintenance Window monthly (currently, the first Friday in the month from 6 PM until 10 PM (Central ',\n 'time)). COMPANY will provide Client with a minimum of five business days advance notification of any Scheduled Maintenance ',\n 'Window. The notification will include the expected start time and duration of the Scheduled Maintenance Window activity. ',\n 'COMPANY will use commercially reasonable efforts to schedule any Scheduled Maintenance Window activity during off-business ',\n '“Service Credit” means the percentage of the Monthly Services Fee that is awarded to Client for a validated claim related to failure to ',\n 'meet the System Availability objective during that month. ',\n '“Service Level Agreement” is specified in Section 3 (“System Availability Service Level Agreement”) of this Exhibit B. ',\n '“System Availability” means the percentage of total time during which the Services are available to Client, excluding the Scheduled ',\n 'Maintenance Window and Emergency Maintenance. ',\n '2.  General Terms Applicable to the Service Level Agreement for the Services. ',\n 'a. ',\n 'Service Credits. Service Credits earned by Client hereunder will be applied against fees next due for the Services. If Service Credits ',\n 'cannot be applied to future fees due for the Services because the Agreement has expired or been terminated, COMPANY will promptly ',\n 'pay Client the amount of the credit, provided Client will not receive a refund if COMPANY has terminated the Agreement for Client’s ',\n 'material uncured breach. ',\n 'b. ',\n 'Service Level Agreement Claims. ',\n 'Services. ',\n 'Client will have the remedies under this Service Level Agreement commencing 30 days after implementation and go-live of the ',\n 'Client must notify COMPANY via email to support@COMPANY.com within five business days from the date of the incident ',\n 'Client first believes entitles it to receive a remedy under this Service Level Agreement set forth below. ',\n 'iii. ',\n 'All claims for failure to meet the Service Level Agreement are subject to validation by COMPANY. To validate a claim, ',\n 'COMPANY will use log files, database records, audit logs, and any other available information as the basis for making a good ',\n 'faith judgment on the applicability of Service Credits to said incident. Upon Client’s request, COMPANY will make information ',\n 'used to validate a claim available for auditing by Client. ',\n 'iv. ',\n 'The remedies set forth herein represent Client’s sole and exclusive remedy for COMPANY’ breach of the Service Level ',\n 'Agreement defined in this Exhibit. ',\n 'c. ',\n 'Exclusions. ',\n 'Client will not have any remedies under this Service Level Agreement in connection with any force majeure event. ',\n 'Client will not have any remedies under this Service Level Agreement to the extent a Service Credit claim is due to: (A) use of ',\n 'the Services outside the scope described in the Agreement, (B) Client’s equipment and/or third party software, hardware or ',\n 'network infrastructure outside of COMPANY’ data center and not under the direct control of COMPANY, (C) failure of Client to ',\n 'meet the configuration requirements for Client equipment specified by COMPANY, (D) failure of the external internet beyond ',\n 'COMPANY’ network, (E) any inappropriate actions or inactions of Client or any other third party not under the direct control of ',\n 'COMPANY, or (F) attacks (i.e. hacks, denial of service attacks, malicious introduction of viruses and disabling devices) caused by ',\n 'third parties, provided COMPANY has taken all reasonable steps to prevent such attacks. ',\n '3. ',\n 'System Availability Service Level Agreement. ',\n '12 ',\n 'COMPANY ',\n 'i. ',\n 'ii. ',\n 'i. ',\n 'ii. ',\n '\\x0c']"
     },
     "metadata": {},
     "execution_count": 23
    }
   ],
   "source": [
    "pages[11]"
   ]
  },
  {
   "cell_type": "markdown",
   "metadata": {},
   "source": [
    "# Sometimes sentences extracted from pdf are out of order\n",
    "fix by changing margins"
   ]
  },
  {
   "cell_type": "code",
   "execution_count": 36,
   "metadata": {},
   "outputs": [],
   "source": [
    "# pages[1]\n",
    "from nltk.corpus import stopwords\n",
    "from nltk.stem.porter import PorterStemmer\n",
    "import re\n",
    "stop_words = set(stopwords.words('english'))\n",
    "no_nonsense_re = re.compile(r'^[a-zA-Z^508]+$')\n",
    "def strip_nonsense(doc):\n",
    "    \"\"\"\n",
    "    Returns stemmed lowercased alpha-only substrings from a string that are b/w 3 and 17 chars long. \n",
    "    It keeps the substring `508`.\n",
    "    \n",
    "    Parameters:\n",
    "        doc (str): the text of a single FBO document.\n",
    "        \n",
    "    Returns:\n",
    "        words (str): a string of space-delimited lower-case alpha-only words (except for `508`)\n",
    "    \"\"\"\n",
    "    \n",
    "    doc = doc.lower()\n",
    "    doc = doc.split()\n",
    "    words = ''\n",
    "    for word in doc:\n",
    "        m = re.match(no_nonsense_re, word)\n",
    "        if m:\n",
    "            match = m.group()\n",
    "            if match in stop_words:\n",
    "                continue\n",
    "            else:\n",
    "                match_len = len(match)\n",
    "                if match_len <= 17 and match_len >= 3:\n",
    "                    porter = PorterStemmer()\n",
    "                    stemmed = porter.stem(match)\n",
    "                    words += stemmed + ' '\n",
    "    return words"
   ]
  },
  {
   "cell_type": "markdown",
   "metadata": {},
   "source": [
    "## Simple example"
   ]
  },
  {
   "cell_type": "code",
   "execution_count": 51,
   "metadata": {},
   "outputs": [],
   "source": [
    "# clauses_unormalized = [i.replace(\"\\n\",\" \") for i in pages[1].split(\"\\n\\n\")]"
   ]
  },
  {
   "cell_type": "code",
   "execution_count": 56,
   "metadata": {},
   "outputs": [],
   "source": [
    "# clauses_unormalized"
   ]
  },
  {
   "cell_type": "code",
   "execution_count": 45,
   "metadata": {
    "tags": []
   },
   "outputs": [],
   "source": [
    "# clauses_normalized = []\n",
    "# i=0\n",
    "# for clause in clauses_unormalized:\n",
    "#     clauses_normalized.append(strip_nonsense(clause))"
   ]
  },
  {
   "cell_type": "code",
   "execution_count": 54,
   "metadata": {},
   "outputs": [],
   "source": [
    "# clauses_normalized"
   ]
  },
  {
   "cell_type": "markdown",
   "metadata": {},
   "source": [
    "# Full implementation to extract clauses"
   ]
  },
  {
   "cell_type": "code",
   "execution_count": 67,
   "metadata": {
    "tags": [
     "outputPrepend"
    ]
   },
   "outputs": [
    {
     "output_type": "stream",
     "name": "stdout",
     "text": "ient ', 'includ intellectu right client client grant compani right use client data provid ', 'servic compani own includ intellectu ', 'includ extens agreement sale ', 'convey client right ownership relat except limit right licens expressli grant ', 'licens grant use ', '', 'limit warranti ', 'mutual parti repres warrant legal power enter perform ', 'compli applic law perform oblig use servic ', '', 'compani warrant ', 'servic provid function describ applic document normal use ', 'event servic compani provid work otherwis repair replac nonconform ', 'compani unabl termin access servic return contract price paid servic ', 'previous paid compani period begin notic nonconform remaind initi servic ', 'term extens servic ', 'routin test servic use softwar effort detect ', 'disabl trap back easter time comput program ', 'routin design detriment interfer surreptiti intercept expropri softwar data ', 'malici code introduc comput system compani assist work ', 'remedi damag caus malici provid taken prudent ', 'busi measur prevent introduct malici code comput take prudent busi measur ', 'minim effect malici deliv suffici document compani valid belief ', 'malici code introduc comput system ', '', 'compani ', '']\n66 66 66\n['', '', '', 'compani warrant use servic permit agreement infring ', 'intellectu properti right third event breach compani indemnifi client specifi ', 'section ', 'remedi set forth ', 'servic level compani warrant servic meet commit set forth servic level agreement ', 'copi attach exhibit event failur meet compani provid refund ', 'provis section constitut sole exclus sole exclus ', 'breach warranti except set forth section servic provid ', 'compani licensor expressli disclaim express limit ', 'impli warranti merchant fit particular compani make warranti servic ', 'error compani cannot control flow data network ', 'portion flow depend larg part perform internet servic provid control third ', 'action inact third parti impair disrupt connect internet portion ', 'compani agre use commerci reason effort take action deem appropri remedi avoid ', 'compani cannot guarante event compani disclaim liabil result ', 'relat ', '', 'confidenti inform mean confidenti proprietari inform parti ', 'disclos disclos parti receiv whether oral design confidenti ', 'reason understood confidenti given natur inform circumst includ ', 'busi market technolog technic product busi confidenti inform ', 'specif includ case client case compani ', '', 'exclus confidenti inform includ inform without breach oblig ', 'owe disclos becom gener known known receiv parti prior disclosur ', 'disclos independ develop receiv parti without breach receiv ', 'third receiv parti compel law disclos confidenti inform disclos provid ', 'disclos parti prior notic compel disclosur extent legal reason disclos ', 'disclos parti wish contest ', 'oblig regard confidenti except expressli permit compani client ', 'permit respect attorney independ contractor ', 'reproduc otherwis make avail confidenti inform licensor govern ', 'secur protect confidenti inform use greater level care use protect ', 'confidenti proprietari inform like event less reason degre advis ', 'respect attorney independ contractor access confidenti inform hold ', 'notwithstand either parti may disclos confidenti inform extent requir ', 'applic law includ without limit applic freedom inform act sunshin order court ', 'government case parti notifi parti soon practic possibl least thirti ', 'day prior parti make requir ', 'injunct injunct relief avail either parti connect servic see ', '', '', '', '', 'indemnif compani defend client suit action aris result ', 'action client base third parti claim use servic author agreement infring ', 'unit state trade pay amount final judgment award reason ', 'fee final settlement made respect claim provid compani notifi promptli client ', 'write compani shall coordin defens depart justic request addit ', 'oblig servic becom like becom subject claim ', 'compani either procur client right continu use servic replac modifi ', 'servic make servic sole conclud neither altern reason ', 'compani may termin right use servic releas client oblig make futur payment ', 'servic issu pro rata refund fee paid forego state entir oblig liabil compani ', 'respect infring noth contain herein shall constru derog depart right ', 'defend claim suit brought pursuant jurisdict statut ', 'indemnif oblig appli claim result use servic ', 'combin servic devic claim would arisen combin manner ', '', 'compani ', '']\n64 64 64\n['', '', '', '', '', 'author agreement provid use servic accord ', '', 'respect third parti ', 'connect ', 'provis section set forth sole exclus sole exclus ', 'indemnif client indemnif defens oblig compani third parti ', 'limit except respect breach confidenti oblig set forth section ', 'indemnif oblig section oblig pay amount due neither parti ', 'liabl punit special regardless whether liabil base breach ', 'strict breach failur essenti purpos even advis likelihood ', 'event either cumul liabil aris relat regardless form action ', 'impos one year subscript fee servic order form ', 'subject profession fee paid pursuant statement work order form ', 'subject forego limit liabil shall appli person injuri death result ', 'matter liabil cannot exclud parti acknowledg noth provis ', 'shall restrict statutori remedi event ', 'term ', '', 'agreement commenc effect date specifi first page agreement remain effect ', 'order form enter parti expir initi term applic order form mean period ', 'begin effect date applic order form continu initi term specifi order form ', 'servic upon expir initi servic term order order form automat termin unless ', 'extend write sign parti success twelv month period refer ', 'servic togeth initi servic refer event order form contain ', 'servic ad exist ad servic bill basi cotermin initi ', 'servic term applic renew servic term order unless otherwis agre ', 'automat act client automat renew oblig connect servic oblig would violat act ', '', 'recours unit state alleg breach agreement must made term ', 'feder tort claim act disput contract disput claus disput compani shall proceed ', 'dilig perform pend final resolut request action aris ', 'parti perform accord final ', '', 'effect period day effect date termin compani make ', 'client data avail download provid client breach agreement paid fee due agreement ', 'compani delet client data system access servic ', 'parti return origin copi confidenti inform custodi ', 'control lieu return confidenti destroy copi confidenti certifi ', 'destruct write sign oblig pay compani amount due hereund surviv expir ', 'termin term section natur intend extend beyond termin surviv ', 'termin agreement ', '', 'govern law agreement govern exclus feder law ', 'disput compani client connect agreement resolv accord far ', 'disput resolut provis contain ', 'conflict feder procur term condit contain agreement way ', 'conflict inconsist feder procur applic far term condit herebi ', 'delet entireti ', 'govern restrict servic provid restrict duplic disclosur ', 'govern subject restrict set forth right technic data comput softwar claus dfar ', 'manufactur compani ', 'client may time time provid comment feedback compani respect ', 'compani free use feedback without compani acknowledg abil use ', 'agreement feedback provid result agreement advertis limit gsar ', 'independ parti independ joint fiduciari ', 'employ relationship parti creat third parti beneficiari ', '', 'compani ', '']\n64 64 64\n['', '', '', 'notic requir given agreement given sent recipi address state ', 'unless otherwis chang notic given certifi regist overnight ', 'notic deem given date receipt deliveri said ', 'failur delay exercis right hereund constitut waiver except otherwis ', 'remedi provid herein addit exclus remedi parti law provis ', 'agreement held court compet jurisdict contrari provis modifi court interpret ', 'best accomplish object origin provis fullest extent permit remain provis ', 'remain ', '', '', 'forc excus delay shall govern far ', 'neither parti may assign agreement otherwis transfer right oblig whole ', 'without prior written attempt assign deleg right oblig ', 'agreement without consent null subject agreement bind inur benefit ', 'permit successor ', '', 'compani ', '']\n21 21 21\n['', '', '', 'master servic subscript agreement ', 'exhibit ', 'support servic ', 'compani provid support host decis support system describ ', 'compani use web base client portal use key client portal includ ', 'follow ', '', '', 'case manag client may creat view case histori relat past case view ', 'manner includ case ', 'custom abil search public knowledg databas resolut question surround ', 'gener system administr ', 'submit issu client key contact log client portal user center complet request ', 'form relev inform upon compani gener support ', 'mean compani strongli encourag issu submit via client compani ', 'also gener support request base relev inform report key contact phone note ', 'support request submit email automat classifi sever ', '', 'self servic request via client submit issu client key contact log client ', 'portal user center complet request form relev inform upon compani ', 'gener support ', '', 'connect compani key contact identifi compani ', 'data request compani abl gener support ', '', 'upon receipt email request key compani gener support ', 'design key compani provid support client commun technic contact design ', 'client client portal key contact may chang time updat custom account ', 'inform client key contact must relev technic knowledg regard servic necessari ', 'assist compani ', 'help desk custom support help desk provid assist design support contact use ', 'problem resolut issu respect custom support help desk avail hour ', 'regular busi day standard compani list provid ', 'compani custom upon compani may chang hour help desk avail shorten ', 'hour support per ', 'report resolv issu resolut submit issu servic depend upon complet ', 'understand variabl uniqu situat parti work togeth identifi resolv ', '', 'sever level issu servic issu categor compani one four ', '', 'servic client unabl use servic without signific disrupt primari ', 'busi oper respect workaround exist would enabl servic use correct ', '', 'issu sever prevent servic use without signific disrupt ', 'primari busi oper respect workaround exist enabl busi oper even diminish ', 'issu restrict use one featur servic perform necessari function respect ', 'issu prevent function compon servic oper properli ', '', '', '', '', 'workaround ', 'sever sever sever ', 'problem client promptli notifi compani regard issu servic client telephon ', 'email describ submit request key contact follow problem report ', 'procedur post compani client procedur includ identifi sever level issu pursuant ', 'classif scheme provid clear descript ', '', 'compani ', '']\n63 63 63\n['', '', '', '', 'key contact provid addit data facilit compani reproduc exampl ', 'data may request includ descript expect behavior frequenc issu ', 'compani attempt reproduc issu identifi compani abl reproduc ', 'respons includ confirm sever level issu purpos develop resolut propos ', '', 'event compani determin issu issu custom disagre ', 'compani client work togeth resolv may limit ', 'demonstr custom compani believ issu ', 'compani client may revis sever classif issu base addit inform provid client ', 'uncov resolut ', '', 'issu respons resolut target set forth tabl follow resolut ', 'time vari depend exact issu custom ', '', '', '', 'target time frame ', 'sever level issu ', 'initi respons ', '', '', 'workaround temporari fix ', 'final resolut ', '', '', '', '', 'minut ', 'minut ', 'minut ', 'minut ', 'eight hour ', 'two day ', 'five day ', '', '', '', 'five day ', 'five day ', '', '', '', 'next gener releas ', 'target time frame measur creation case number per process describ sinc defect may resolv ', 'within specif timefram due complex solut resolut target goal use ', 'term refer base regular busi ', 'exclud weekend compani ', 'support request submit email automat classifi sever ', 'custom submit problem report client portal acknowledg gener ', 'five solut workaround also ', '', '', '', '', '', 'guarante ', 'compani provid routin updat resolut ', 'respect sever compani use continu dilig effort client back ', 'target time frame fall outsid normal busi hour carri next busi ', '', 'compani endeavor investig correct issu compani unabl provid ', 'suspect issu whole exclud caus specifi upon ', 'compani may travel locat investig issu travel expens includ part ', 'mainten compani travel client suspect issu determin unrel ', 'problem resolut respons client agre pay travel expens accord feder ', 'travel regul travel regul client shall liabl travel expens approv ', 'order activ fund applic order compani discret method ', 'manner mainten support includ use ', '', 'escal escal may initi sever sever issu either compani client via ', 'escal path provid ', 'escal escal criteria sever sever issu ', '', 'sever issu issu resolv within one busi day provid materi progress ', 'issu escal within compani addit action resourc execut manag monitor ', 'issu close ', '', 'sever issu escal three busi ', 'manag updat compani provid manag updat maintain servic latest ', 'compani notifi client prior implement updat may materi affect function perform ', '', 'compani ', '']\n87 87 87\n['', '', '', 'support servic includ servic implement test setup configur updat rel ', 'instanc migrat client servic avail basi assist client ', 'condit limit compani oblig render support servic respect problem ', 'use function servic caus hardwar softwar product error use ', 'servic inconsist author modif servic person entiti one ', 'author support render problem caus forego troubleshoot respect ', 'support servic effort increas compani reserv right impos ', 'charg agenc pricelist time materi rate includ preapprov travel per diem expens ', 'reimburs consist travel custom servic engin notifi caller soon ', 'billabl statu call caller may termin call time without ', '', 'compani ', '']\n16 16 16\n['', '', '', 'master servic subscript agreement ', 'exhibit ', 'inform secur procedur ', 'inform secur program host decis support system describ ', '', '', '', '', '', 'gener descript inform secur ', 'inform secur program design ', 'address integr confidenti client ', 'person subject client ', 'provid procedur proper dispos client ', 'gener ', 'protect anticip threat hazard secur integr client ', 'protect unauthor access use client data could result substanti harm inconveni ', 'data compani store client data secur comput locat physic secur control data center ', 'compani employ technolog consist industri standard firewal secur ', 'technolog prevent compani comput access unauthor ', 'data compani use http standard protect data integr compani maintain ', 'follow secur ', 'http ssl encrypt ', 'abil transfer file via secur file transfer protocol ', 'encrypt file least transmiss unencrypt ', '', 'access use compani monitor user access use servic perform ', 'encrypt password ', 'system util ', '', 'secur assess ', 'request compani cooper client initi secur includ complet risk ', 'assess compani provid client review third parti data center provid ', 'util provis servic well result penetr test compani period ', 'perform qualifi third parti secur ', 'network physic secur ', 'basic secur compani ', 'instal maintain tune network firewal protect client ', 'regularli instal secur patch servic ', 'ensur authent network web ', 'use regularli updat prevent ', 'maintain credenti manag process includ assign uniqu person comput access ', 'period password chang ', 'track access gener store audit trail log help identifi malici ', 'regularli test effici health secur system ', 'maintain polici address inform secur employe ', 'restrict physic access system contain client ', 'restrict remot access network devic employ secur remot access control verifi ident user ', '', 'protect backup unauthor access transit ', 'compani use cryptograph algorithm publish evalu gener cryptograph ', 'commun suffici strength equat ', '', 'secur ', 'definit secur mean actual suspect unauthor ', 'misappropri access use modif client ', '', 'compani ', '', '', '', '', '', '', '']\n68 68 68\n['', '', '', 'notif secur compani notifi client accord applic law actual suspect secur ', 'breach client data immedi follow discoveri secur provid client detail descript ', '', '', 'investig secur compani ', 'promptli investig secur ', '', 'take reason step necessari stop otherwis remedi secur ', 'promptli implement appropri intern technic procedur control reduc likelihood recurr secur ', '', 'provid client document detail control ', 'return destruct data upon ', 'compani maintain document process provid secur return destruct client includ ', 'copi store backup event servic notwithstand respect copi ', 'client data retain compani backup tape similar easili compani ', 'continu maintain data tape media subject oblig confidenti ', 'client data destroy overwritten compani ordinari cours busi ', '', 'compani ', '']\n23 23 23\n['', '', '', 'master servic subscript agreement ', 'exhibit ', 'servic level agreement ', 'servic level agreement host decis support system describ ', '', '', '', '', '', '', '', '', '', 'mean downtim servic outsid schedul mainten window hour requir ', 'complet applic urgent patch undertak urgent mainten emerg mainten ', 'compani immedi contact client provid expect start time emerg plan ', 'whether compani expect servic unavail emerg ', 'subscript mean annual fee applic ', 'mainten mean window schedul mainten servic may ', 'gener one schedul mainten window monthli first friday month ', 'compani provid client minimum five busi day advanc notif schedul mainten ', 'notif includ expect start time durat schedul mainten window ', 'compani use commerci reason effort schedul schedul mainten window activ ', 'mean percentag monthli servic fee award client valid claim relat failur ', 'meet system avail object ', 'level specifi section avail servic level exhibit ', 'mean percentag total time servic avail exclud schedul ', 'mainten window emerg ', 'gener term applic servic level agreement ', '', 'servic servic credit earn client hereund appli fee next due servic credit ', 'cannot appli futur fee due servic agreement expir compani promptli ', 'pay client amount provid client receiv refund compani termin agreement ', 'materi uncur ', '', 'servic level agreement ', '', 'client remedi servic level agreement commenc day implement ', 'client must notifi compani via email within five busi day date incid ', 'client first believ entitl receiv remedi servic level agreement set forth ', '', 'claim failur meet servic level agreement subject valid valid ', 'compani use log databas audit avail inform basi make good ', 'faith judgment applic servic credit said upon compani make inform ', 'use valid claim avail audit ', '', 'remedi set forth herein repres sole exclus remedi breach servic level ', 'agreement defin ', '', '', 'client remedi servic level agreement connect forc majeur ', 'client remedi servic level agreement extent servic credit claim due use ', 'servic outsid scope describ equip third parti hardwar ', 'network infrastructur outsid data center direct control failur client ', 'meet configur requir client equip specifi failur extern internet beyond ', 'inappropri action inact client third parti direct control ', 'attack denial servic malici introduct virus disabl caus ', 'third provid compani taken reason step prevent ', '', 'system avail servic level ', '', 'compani ', '', '', '', '', '']\n70 70 70\n['', '', '', '', '', '', '', 'system compani warrant least system avail calendar ', 'system avail less client fulfil oblig agreement includ ', 'compani provid client servic credit appli month failur meet servic level ', 'agreement servic credit calcul accord tabl ', 'system avail per calendar month ', 'servic credit ', '', '', '', '', '', '', '', 'compani ', '']\n22 22 22\n"
    }
   ],
   "source": [
    "clauses_unormalized = []\n",
    "clauses_normalized = []\n",
    "page_number = []\n",
    "i=0\n",
    "for p in pages:\n",
    "    clauses=[i.replace(\"\\n\",\" \") for i in p.split(\"\\n\\n\")]\n",
    "    clause_normalized=[strip_nonsense(i) for i in clauses]\n",
    "    print(clause_normalized)\n",
    "    print(len(clauses),len(clause_normalized),len([i]*len(clauses)) )\n",
    "    clauses_unormalized+=clauses\n",
    "    clauses_normalized+=clause_normalized\n",
    "    page_number+=[i]*len(clauses)\n",
    "    i+=1\n",
    "\n",
    "labeled_df = pd.DataFrame(data=[clauses_unormalized,clauses_normalized,page_number]).transpose()\n",
    "labeled_df.columns = ['clauses_unormalized','clauses_normalized','page_number']\n",
    "labeled_df.to_csv('sample_eula_1_clauses.csv',sep=',',index=False)"
   ]
  },
  {
   "cell_type": "code",
   "execution_count": 70,
   "metadata": {},
   "outputs": [
    {
     "output_type": "execute_result",
     "data": {
      "text/plain": "clauses_unormalized    b.  Remedy. If the System Availability is less...\nclauses_normalized     system avail less client fulfil oblig agreemen...\npage_number                                                           12\nName: 700, dtype: object"
     },
     "metadata": {},
     "execution_count": 70
    }
   ],
   "source": [
    "labeled_df=pd.read_csv('sample_eula_1_clauses.csv')\n",
    "labeled_df.iloc[700]"
   ]
  },
  {
   "cell_type": "markdown",
   "metadata": {},
   "source": [
    "# ToDo\n",
    "* Make class or function to return pages of text\n",
    "* split to get list of paragraphs, or \"clauses\"\n",
    "* How should I split text to get \"clauses\"\n",
    "* HOW to split based on outline"
   ]
  },
  {
   "cell_type": "code",
   "execution_count": 37,
   "metadata": {},
   "outputs": [],
   "source": [
    "## Extract Clauses from DOCX\n",
    "import textract\n",
    "text = textract.process('/Users/andrewmendez1/Documents/ai-ml-challenge-2020/reference/sample_eula_1.docx', extension='docx').decode('utf-8')"
   ]
  },
  {
   "cell_type": "code",
   "execution_count": 51,
   "metadata": {
    "tags": []
   },
   "outputs": [
    {
     "output_type": "execute_result",
     "data": {
      "text/plain": "COMPANY strongly encourages that issues be submitted via the Client Portal. While COMPANY will also generate support requests based on relevant information reported by the Key Contact over the phone or by email, note that support requests submitted by email are automatically classified as a Severity 4 Defect.',\n '\\tBy Self Service Request via the Client Portal: To submit an issue through the Client Portal, the Key Contact logs into the Client Portal User Center and completes the request form with all relevant information about the issue. Upon submission, COMPANY will generate a support request.',\n '\\tBy Telephone: Once connected with an COMPANY representative, the Key Contact identifies to COMPANY the Client’s name, location, issue, and other data as requested so that COMPANY is able to generate a support request.',\n 'By Email: Upon receipt of an email request from the Key Contact, COMPANY will generate a support request.',\n '\\tDesignation of Key Contacts. COMPANY will provide support to Client only by communication with the technical contacts designated by Client in the Client Portal (each, a \"Key Contact\"). Key Contacts may be changed at any time by updating the Customer account information in the Client Portal. Each Key Contact must have the relevant technical knowledge regarding the Services necessary to assist COMPANY as needed.',\n 'Help Desk Support. COMPANY’ customer support help desk provides assistance to the Designated Support Contacts on use and problem resolution issues with respect to the Services. The customer support help desk is available during the hours between 8:00\\n\\na.m. and 5:00 p.m. (Central time) on regular business days (excluding standard COMPANY holidays, a list of which will be provided by COMPANY to Customer upon request). COMPANY may change the hours during which the help desk is available but will not shorten the hours of support per day.',\n '\\tReporting and Resolving Issues with the Services. Resolution of submitted issues with the Services will depend upon a complete understanding of the variables unique to each situation with both parties working together to identify and resolve the issue.',\n '\\tSeverity Levels and Issue Identification. Services issues are categorized by COMPANY into one of four classifications:',\n '\"Severity 1\" – Services is inoperable. Client is unable to use the Services without significant disruption to Customer’s primary business operations and with respect to which no workarounds exist that would enable the Services to be so used until corrections can be made.',\n '\"Severity 2\" – issue that is of a severity that prevents the Services from being used without significant disruption to Client’s primary business operations but with respect to which a workaround exists enabling business operations even if in a diminished capacity.',\n '\"Severity 3\" – issue which restricts the use of one or more features of the Services to perform necessary functions but with respect to which a workaround is available.',\n '\"Severity 4\" – are non-critical issue that prevent a function or component of the Services from operating properly but which is not a Severity 1, Severity 2 or Severity 3 issue.',\n '\\tProblem Reporting. Client will promptly notify COMPANY regarding issues with the Services through the Client Portal, by telephone or by email as described above. When submitting any request for support, the Key Contact will follow the problem reporting procedures posted by COMPANY in the Client Portal. These procedures include identifying the Severity Level of the issue pursuant to the above classification scheme and providing a clear description of the issue.\\n\\n\\n\\n\\n\\nAt COMPANY’ request, the Key Contact will provide additional data to facilitate COMPANY in reproducing the issue. Examples of data that may be requested include a description of the expected behavior and the frequency with which the issue occurs.\\n\\nCOMPANY will attempt to reproduce the issue and identify its cause. If COMPANY is able to reproduce the issue, COMPANY’ response will include a confirmation of the Severity Level of the issue for the purpose of developing a resolution and any proposed work-around.\\n\\nIn the event COMPANY determines that the issue is, in fact, not an issue with the Services, but Customer disagrees with that determination, COMPANY and Client will work together to resolve the difference. This may include, but is not limited to,\\n\\nCOMPANY’ demonstrating to Customer why COMPANY does not believe that the issue is with the Services.\\n\\nCOMPANY and Client may revise the Severity classification of the issue based on additional information provided by Client or uncovered during the resolution process.',\n '\\tIssue Resolution. COMPANY’ response and resolution targets are set forth in the table on the following page. However, resolution times will vary depending on the exact issue and customer environment.\\n\\n\\n\\n\\n\\n\\n\\nTarget Time Frames 1\\n\\nSeverity Level of Issue2\\n\\nInitial Response 3\\n\\nWorkaround or Temporary Fix\\n\\nFinal Resolution\\n\\n1\\n\\n30 minutes\\n\\nEight hours\\n\\nFive days\\n\\n2\\n\\n30 minutes\\n\\nTwo days\\n\\nFive days\\n\\n3\\n\\n30 minutes\\n\\nFive days\\n\\nNext general release\\n\\n4\\n\\n30 minutes\\n\\nN/A4\\n\\nN/A4',\n '1\\tTarget time frames are measured from creation of a case number per the process described above. Since Defects may not be resolvable within a specific timeframe due to complexity of the solution and other factors, resolution targets are goals and not commitments. The use of the terms “hours” and “days” refer to \"business hours\" and \"business days,\" are based on COMPANY’ regular business schedule, and exclude weekends and COMPANY locally-observed holidays.',\n '2\\tSupport requests submitted by email are automatically classified as a Severity 4 Defect.',\n '3\\tWhen a customer submits a problem report through the Client Portal at clients.COMPANY.com, the acknowledgement will generally be under five minutes. When possible, a solution or a workaround will also be provided.',\n \"4\\tNo guarantee of resolution.\\n\\nCOMPANY provides routine updates on resolution efforts.\\n\\nSpecifically, with respect to Severity 1 issues, COMPANY will use continuous and diligent efforts until Client is back in production. Otherwise, all Target Time Frames which fall outside of COMPANY’ normal business hours will be carried over to the next business day.\\n\\nCOMPANY endeavors to investigate and correct issues at COMPANY’ offices. If COMPANY is unable to do so, and provided the suspected issue is not attributable, in whole or in part, to any of the excluded causes specified below, then upon Client’s request, COMPANY may travel to Client's location to investigate the issue with travel and other out-of-pocket expenses included as part of Maintenance Services. If, after COMPANY travels to the Client location, the suspected issue is determined to be unrelated to the Services, the problem resolution will be Client’s responsibility and Client agrees to pay any travel expenses in accordance with Federal Travel Regulation (FTR)/Joint Travel Regulations (JTR), as applicable. Client shall only be liable for such travel expenses as approved as by Ordering Activity and funded under the applicable ordering document. COMPANY will have discretion as to the method and manner of maintenance and support efforts, including the use of non-COMPANY personnel.\",\n '\\tEscalation.',\n 'Escalation Initiation. Escalation may be initiated for a Severity 1 or Severity 2 issue from either COMPANY or Client via the escalation path provided by COMPANY.',\n 'Escalation Criteria. COMPANY’ escalation criteria for a Severity 1 or Severity 2 issue are as follows:',\n '\\tSeverity 1 issue – If the issue has not resolved within one business day and provided no material progress has been made, the issue is escalated within COMPANY for additional action and resources as needed. Executive management monitors the issues closely until it is resolved.',\n '\\tSeverity 2 issue – escalated after three business days.',\n '\\tManagement of Updates to the Services. COMPANY provides and manages all updates to maintain the Services at the latest version. COMPANY will notify Client prior to implementing an update that may materially affect the function or performance of the Services.\\n\\n\\n\\n\\n\\nSupport for the Services does not include any services to implement or test the update, to setup or configure the update relative to Client’s instance or to migrate Client Data. Services are available on a time-and-materials basis to assist Client with these.',\n '\\tConditions and Limitations of Support. COMPANY has no obligations to render support for the Services with respect to problems in the use or functioning of the Services caused by any hardware or software product other than the Services, by any error in the use of the Services inconsistent with its authorized use, or by any modifications of the Services by any person or entity other than one authorized by COMPANY. If support is rendered for any problem caused by any of the foregoing or for troubleshooting with respect to any of the foregoing, or if COMPANY’ support services efforts are increased as a result, COMPANY reserves the right to impose charges at it then AGENCY Pricelist time and materials rates for all such services, including preapproved travel and per diem expenses to be reimbursed consistent with Client’s travel policies. COMPANY’ customer service engineer will notify a caller as soon as the billable status of the call is determined. The caller may terminate the call at that time without charge.\\n\\n\\n\\n\\n\\nMASTER SERVICES SUBSCRIPTION AGREEMENT\\n\\nExhibit B\\n\\nInformation Security Procedures\\n\\nCOMPANY’ information security program for its hosted “software as a service” decision support system (the “Services”) is described below.',\n '\\tGeneral Description of COMPANY’ Information Security Program.\\n\\nCOMPANY’ information security program is designed to:',\n '\\taddress the security, integrity and confidentiality of Client Data,',\n '\\tprotect against anticipated threats or hazards to the security or integrity of Client Data,',\n '\\tprotect against unauthorized access to or use of the Client Data that could result in substantial harm or inconvenience to the person that is the subject of the Client Data, and',\n '\\tprovide procedures for the proper disposal of Client Data.',\n 'General Procedures.',\n 'Data Storage. COMPANY stores Client Data on secure computers located in a physically secure and controlled data center environment. COMPANY employs technologies that are consistent with industry standards for firewalls and other security technologies to prevent COMPANY computers from being accessed by unauthorized persons.',\n 'Data Transfers. COMPANY uses HTTPS standards to protect data integrity during transfers. In addition, COMPANY will maintain the following security measures:',\n 'HTTP with SSL 128-bit encryption (HTTPS),',\n 'the ability to transfer files via Secure File Transfer Protocol (SFTP),',\n 'encryption of files with at least AES-128 or 3DES-128 for transmission in unencrypted email/FTP/HTTP channels, and',\n 'encrypted passwords for the Services.',\n '\\tAccess and Use Monitoring. COMPANY will monitor COMPANY’ user access to and use of the Services for security, performance evaluation, and system utilization purposes.',\n '\\tSecurity Assessments and Audits.\\n\\nIf requested by Client, COMPANY will cooperate with Client in an initial security assessment, including the completion of a risk assessment questionnaire. In addition, COMPANY will provide Client with SSAE16 Reviews from the third party data center providers utilized in the provision of the Services as well as with the results of the penetration testing which COMPANY has periodically performed by qualified third party security consultants.',\n '\\tNetwork and Physical Security Requirements.',\n '\\tBasic Security Requirements. COMPANY will:',\n 'install and maintain a working, tuned network firewall to protect Client Data,',\n 'regularly install security patches on the Services network,',\n 'ensure that authentication to the Services’ network web front-end is encrypted,',\n 'where applicable, use and regularly update anti-malware prevention tools,',\n 'maintain a credential management process which includes assigning a unique ID to each person with computer access with a periodic password change requirement,',\n 'track access to systems, generate and store audit trail and logs to help identify malicious activity,',\n 'regularly test efficiency and health of security controls, systems and processes,',\n 'maintain a policy that addresses information security for employees and representatives,',\n 'restrict physical access to systems containing Client Data,',\n 'restrict remote access to the network / devices and employ secure remote access controls to verify the identity of users connecting, and',\n 'protect on-site and off-site backups from unauthorized access during transit and storage.',\n '\\tEncryption. COMPANY will use cryptographic algorithms that have been published and evaluated by the general cryptographic community with sufficient strength to equate to 128-bit or better.',\n '\\tSecurity Breach.',\n '\\tDefinition of Security Breach. “Security Breach” means the actual or suspected unauthorized acquisition, destruction, loss, misappropriation or access to, disclosure, use or modification of Client Data.\\n\\n\\n\\n',\n '\\tNotification of Security Breach. COMPANY will notify Client in accordance with applicable law of any actual or suspected security breach of any Client Data immediately following discovery of a Security Breach, and provide Client with a detailed description of the breach.',\n '\\tInvestigation of Security Breach. COMPANY will:',\n 'promptly investigate each Security Breach,',\n 'take all reasonable steps necessary to limit, stop or otherwise remedy the Security Breach,',\n 'promptly implement appropriate internal technical and procedural controls to reduce the likelihood of a recurrence of a Security Breach, and',\n 'provide Client with documentation detailing the controls implemented.',\n '\\tReturn or Destruction of Data upon Termination.\\n\\nCOMPANY will maintain a documented process that provides for the security and return or destruction of all Client Data, including copies stored on backup media, in the event the Services um is terminated. Notwithstanding the foregoing, with respect to copies of any of the Client Data retained by COMPANY in any backup tapes (or similar media) that are not easily accessible, COMPANY will continue to maintain the Data on such back-up tapes or other media subject to obligations of confidentiality under this Agreement. In addition, the Client Data will be destroyed or overwritten by COMPANY in the ordinary course of business for such records.\\n\\n\\n\\n\\n\\nMASTER SERVICES SUBSCRIPTION AGREEMENT\\n\\nExhibit C\\n\\nService Level Agreement\\n\\nCOMPANY’ service level agreement (“SLA”) for its hosted “software as a service” decision support system (the “Services”) is described below.',\n '\\tDefinitions.',\n '\\t“Emergency Maintenance” means downtime of the Services outside of the Scheduled Maintenance Window hours that is required to complete the application of urgent patches or fixes, or to undertake other urgent maintenance activities. If Emergency Maintenance is required, COMPANY will immediately contact Client and provide the expected start time of the Emergency Maintenance, its planned duration, and whether COMPANY expects the Services to be unavailable during the Emergency Maintenance.',\n '\\t“Monthly Subscription Fee” means one-twelfth of the annual fee applicable to the Services.',\n '\\t“Scheduled Maintenance Window” means the window during which scheduled maintenance of the Services may be performed. There is generally one Scheduled Maintenance Window monthly (currently, the first Friday in the month from 6 PM until 10 PM (Central time)). COMPANY will provide Client with a minimum of five business days advance notification of any Scheduled Maintenance Window. The notification will include the expected start time and duration of the Scheduled Maintenance Window activity.\\n\\nCOMPANY will use commercially reasonable efforts to schedule any Scheduled Maintenance Window activity during off-business hours.',\n '\\t“Service Credit” means the percentage of the Monthly Services Fee that is awarded to Client for a validated claim related to failure to meet the System Availability objective during that month.',\n '\\t“Service Level Agreement” is specified in Section 3 (“System Availability Service Level Agreement”) of this Exhibit B.',\n '\\t“System Availability” means the percentage of total time during which the Services are available to Client, excluding the Scheduled Maintenance Window and Emergency Maintenance.',\n '\\tGeneral Terms Applicable to the Service Level Agreement for the Services.',\n '\\tService Credits. Service Credits earned by Client hereunder will be applied against fees next due for the Services. If Service Credits cannot be applied to future fees due for the Services because the Agreement has expired or been terminated, COMPANY will promptly pay Client the amount of the credit, provided Client will not receive a refund if COMPANY has terminated the Agreement for Client’s material uncured breach.',\n '\\tService Level Agreement Claims.',\n '\\tClient will have the remedies under this Service Level Agreement commencing 30 days after implementation and go-live of the Services.',\n '\\tClient must notify COMPANY via email to support@COMPANY.com within five business days from the date of the incident Client first believes entitles it to receive a remedy under this Service Level Agreement set forth below.',\n '\\tAll claims for failure to meet the Service Level Agreement are subject to validation by COMPANY. To validate a claim, COMPANY will use log files, database records, audit logs, and any other available information as the basis for making a good faith judgment on the applicability of Service Credits to said incident. Upon Client’s request, COMPANY will make information used to validate a claim available for auditing by Client.',\n '\\tThe remedies set forth herein represent Client’s sole and exclusive remedy for COMPANY’ breach of the Service Level Agreement defined in this Exhibit.',\n '\\tExclusions.',\n '\\tClient will not have any remedies under this Service Level Agreement in connection with any force majeure event.',\n '\\tClient will not have any remedies under this Service Level Agreement to the extent a Service Credit claim is due to: (A) use of the Services outside the scope described in the Agreement, (B) Client’s equipment and/or third party software, hardware or network infrastructure outside of COMPANY’ data center and not under the direct control of COMPANY, (C) failure of Client to meet the configuration requirements for Client equipment specified by COMPANY, (D) failure of the external internet beyond COMPANY’ network, (E) any inappropriate actions or inactions of Client or any other third party not under the direct control of COMPANY, or (F) attacks (i.e. hacks, denial of service attacks, malicious introduction of viruses and disabling devices) caused by third parties, provided COMPANY has taken all reasonable steps to prevent such attacks.',\n '\\tSystem Availability Service Level Agreement.\\n\\n\\n\\n',\n '\\tSystem Availability. COMPANY warrants at least 99% System Availability during each calendar month.',\n '\\tRemedy. If the System Availability is less than 99%, and if Client has fulfilled all of its obligations under the Agreement including this Exhibit, COMPANY will provide Client with a Service Credit applied to the month in which the failure to meet this Service Level Agreement has occurred. The Service Credit will be calculated in accordance with the table below.\\n\\n\\n\\n% of System Availability per Calendar Month\\n\\nService Credit\\n\\n< 99%\\n\\n2%\\n\\n< 98%\\n\\n4%\\n\\n< 97%\\n\\n6%\\n\\n\\n\\n\\n\\n\\n\\n2\\n\\n2\\n\\nCOMPANY\\n\\nCOMPANY\\n\\n\\n\\n1\\n\\n1']"
     },
     "metadata": {},
     "execution_count": 51
    }
   ],
   "source": [
    "text.split(\"\\n\\n\\t\")"
   ]
  },
  {
   "cell_type": "code",
   "execution_count": 3,
   "metadata": {},
   "outputs": [
    {
     "output_type": "execute_result",
     "data": {
      "text/plain": "ses viewed in this manner will include all of a Client’s cases in the database.',\n 'Solutions: Customers have the ability to search COMPANY’ public knowledge database for resolution of questions surrounding general end-user usage, system administration and configuration.',\n 'To submit an issue through the Client Portal, the Key Contact will log into the Client Portal User Center and complete the request form with all relevant information about the issue. Upon submission, COMPANY will generate a support request.',\n 'Other Means of Communication. COMPANY strongly encourages that issues be submitted via the Client Portal. While COMPANY will also generate support requests based on relevant information reported by the Key Contact over the phone or by email, note that support requests submitted by email are automatically classified as a Severity 4 Defect.',\n 'By Self Service Request via the Client Portal: To submit an issue through the Client Portal, the Key Contact logs into the Client Portal User Center and completes the request form with all relevant information about the issue. Upon submission, COMPANY will generate a support request.',\n 'By Telephone: Once connected with an COMPANY representative, the Key Contact identifies to COMPANY the Client’s name, location, issue, and other data as requested so that COMPANY is able to generate a support request.',\n 'By Email: Upon receipt of an email request from the Key Contact, COMPANY will generate a support request.',\n 'Designation of Key Contacts. COMPANY will provide support to Client only by communication with the technical contacts designated by Client in the Client Portal (each, a \"Key Contact\"). Key Contacts may be changed at any time by updating the Customer account information in the Client Portal. Each Key Contact must have the relevant technical knowledge regarding the Services necessary to assist COMPANY as needed.',\n 'Help Desk Support. COMPANY’ customer support help desk provides assistance to the Designated Support Contacts on use and problem resolution issues with respect to the Services. The customer support help desk is available during the hours between 8:00',\n 'a.m. and 5:00 p.m. (Central time) on regular business days (excluding standard COMPANY holidays, a list of which will be provided by COMPANY to Customer upon request). COMPANY may change the hours during which the help desk is available but will not shorten the hours of support per day.',\n 'Reporting and Resolving Issues with the Services. Resolution of submitted issues with the Services will depend upon a complete understanding of the variables unique to each situation with both parties working together to identify and resolve the issue.',\n 'Severity Levels and Issue Identification. Services issues are categorized by COMPANY into one of four classifications:',\n '\"Severity 1\" – Services is inoperable. Client is unable to use the Services without significant disruption to Customer’s primary business operations and with respect to which no workarounds exist that would enable the Services to be so used until corrections can be made.',\n '\"Severity 2\" – issue that is of a severity that prevents the Services from being used without significant disruption to Client’s primary business operations but with respect to which a workaround exists enabling business operations even if in a diminished capacity.',\n '\"Severity 3\" – issue which restricts the use of one or more features of the Services to perform necessary functions but with respect to which a workaround is available.',\n '\"Severity 4\" – are non-critical issue that prevent a function or component of the Services from operating properly but which is not a Severity 1, Severity 2 or Severity 3 issue.',\n 'Problem Reporting. Client will promptly notify COMPANY regarding issues with the Services through the Client Portal, by telephone or by email as described above. When submitting any request for support, the Key Contact will follow the problem reporting procedures posted by COMPANY in the Client Portal. These procedures include identifying the Severity Level of the issue pursuant to the above classification scheme and providing a clear description of the issue.',\n '',\n '',\n 'At COMPANY’ request, the Key Contact will provide additional data to facilitate COMPANY in reproducing the issue. Examples of data that may be requested include a description of the expected behavior and the frequency with which the issue occurs.',\n 'COMPANY will attempt to reproduce the issue and identify its cause. If COMPANY is able to reproduce the issue, COMPANY’ response will include a confirmation of the Severity Level of the issue for the purpose of developing a resolution and any proposed work-around.',\n 'In the event COMPANY determines that the issue is, in fact, not an issue with the Services, but Customer disagrees with that determination, COMPANY and Client will work together to resolve the difference. This may include, but is not limited to,',\n 'COMPANY’ demonstrating to Customer why COMPANY does not believe that the issue is with the Services.',\n 'COMPANY and Client may revise the Severity classification of the issue based on additional information provided by Client or uncovered during the resolution process.',\n 'Issue Resolution. COMPANY’ response and resolution targets are set forth in the table on the following page. However, resolution times will vary depending on the exact issue and customer environment.',\n '',\n '1\\tTarget time frames are measured from creation of a case number per the process described above. Since Defects may not be resolvable within a specific timeframe due to complexity of the solution and other factors, resolution targets are goals and not commitments. The use of the terms “hours” and “days” refer to \"business hours\" and \"business days,\" are based on COMPANY’ regular business schedule, and exclude weekends and COMPANY locally-observed holidays.',\n '2\\tSupport requests submitted by email are automatically classified as a Severity 4 Defect.',\n '3\\tWhen a customer submits a problem report through the Client Portal at clients.COMPANY.com, the acknowledgement will generally be under five minutes. When possible, a solution or a workaround will also be provided.',\n '4\\tNo guarantee of resolution.',\n 'COMPANY provides routine updates on resolution efforts.',\n 'Specifically, with respect to Severity 1 issues, COMPANY will use continuous and diligent efforts until Client is back in production. Otherwise, all Target Time Frames which fall outside of COMPANY’ normal business hours will be carried over to the next business day.',\n \"COMPANY endeavors to investigate and correct issues at COMPANY’ offices. If COMPANY is unable to do so, and provided the suspected issue is not attributable, in whole or in part, to any of the excluded causes specified below, then upon Client’s request, COMPANY may travel to Client's location to investigate the issue with travel and other out-of-pocket expenses included as part of Maintenance Services. If, after COMPANY travels to the Client location, the suspected issue is determined to be unrelated to the Services, the problem resolution will be Client’s responsibility and Client agrees to pay any travel expenses in accordance with Federal Travel Regulation (FTR)/Joint Travel Regulations (JTR), as applicable. Client shall only be liable for such travel expenses as approved as by Ordering Activity and funded under the applicable ordering document. COMPANY will have discretion as to the method and manner of maintenance and support efforts, including the use of non-COMPANY personnel.\",\n 'Escalation.',\n 'Escalation Initiation. Escalation may be initiated for a Severity 1 or Severity 2 issue from either COMPANY or Client via the escalation path provided by COMPANY.',\n 'Escalation Criteria. COMPANY’ escalation criteria for a Severity 1 or Severity 2 issue are as follows:',\n 'Severity 1 issue – If the issue has not resolved within one business day and provided no material progress has been made, the issue is escalated within COMPANY for additional action and resources as needed. Executive management monitors the issues closely until it is resolved.',\n 'Severity 2 issue – escalated after three business days.',\n 'Management of Updates to the Services. COMPANY provides and manages all updates to maintain the Services at the latest version. COMPANY will notify Client prior to implementing an update that may materially affect the function or performance of the Services.',\n '',\n '',\n 'Support for the Services does not include any services to implement or test the update, to setup or configure the update relative to Client’s instance or to migrate Client Data. Services are available on a time-and-materials basis to assist Client with these.',\n 'Conditions and Limitations of Support. COMPANY has no obligations to render support for the Services with respect to problems in the use or functioning of the Services caused by any hardware or software product other than the Services, by any error in the use of the Services inconsistent with its authorized use, or by any modifications of the Services by any person or entity other than one authorized by COMPANY. If support is rendered for any problem caused by any of the foregoing or for troubleshooting with respect to any of the foregoing, or if COMPANY’ support services efforts are increased as a result, COMPANY reserves the right to impose charges at it then AGENCY Pricelist time and materials rates for all such services, including preapproved travel and per diem expenses to be reimbursed consistent with Client’s travel policies. COMPANY’ customer service engineer will notify a caller as soon as the billable status of the call is determined. The caller may terminate the call at that time without charge.',\n '',\n '',\n 'MASTER SERVICES SUBSCRIPTION AGREEMENT',\n 'Exhibit B',\n 'Information Security Procedures',\n 'COMPANY’ information security program for its hosted “software as a service” decision support system (the “Services”) is described below.',\n 'General Description of COMPANY’ Information Security Program.',\n 'COMPANY’ information security program is designed to:',\n 'address the security, integrity and confidentiality of Client Data,',\n 'protect against anticipated threats or hazards to the security or integrity of Client Data,',\n 'protect against unauthorized access to or use of the Client Data that could result in substantial harm or inconvenience to the person that is the subject of the Client Data, and',\n 'provide procedures for the proper disposal of Client Data.',\n 'General Procedures.',\n 'Data Storage. COMPANY stores Client Data on secure computers located in a physically secure and controlled data center environment. COMPANY employs technologies that are consistent with industry standards for firewalls and other security technologies to prevent COMPANY computers from being accessed by unauthorized persons.',\n 'Data Transfers. COMPANY uses HTTPS standards to protect data integrity during transfers. In addition, COMPANY will maintain the following security measures:',\n 'HTTP with SSL 128-bit encryption (HTTPS),',\n 'the ability to transfer files via Secure File Transfer Protocol (SFTP),',\n 'encryption of files with at least AES-128 or 3DES-128 for transmission in unencrypted email/FTP/HTTP channels, and',\n 'encrypted passwords for the Services.',\n 'Access and Use Monitoring. COMPANY will monitor COMPANY’ user access to and use of the Services for security, performance evaluation, and system utilization purposes.',\n 'Security Assessments and Audits.',\n 'If requested by Client, COMPANY will cooperate with Client in an initial security assessment, including the completion of a risk assessment questionnaire. In addition, COMPANY will provide Client with SSAE16 Reviews from the third party data center providers utilized in the provision of the Services as well as with the results of the penetration testing which COMPANY has periodically performed by qualified third party security consultants.',\n 'Network and Physical Security Requirements.',\n 'Basic Security Requirements. COMPANY will:',\n 'install and maintain a working, tuned network firewall to protect Client Data,',\n 'regularly install security patches on the Services network,',\n 'ensure that authentication to the Services’ network web front-end is encrypted,',\n 'where applicable, use and regularly update anti-malware prevention tools,',\n 'maintain a credential management process which includes assigning a unique ID to each person with computer access with a periodic password change requirement,',\n 'track access to systems, generate and store audit trail and logs to help identify malicious activity,',\n 'regularly test efficiency and health of security controls, systems and processes,',\n 'maintain a policy that addresses information security for employees and representatives,',\n 'restrict physical access to systems containing Client Data,',\n 'restrict remote access to the network / devices and employ secure remote access controls to verify the identity of users connecting, and',\n 'protect on-site and off-site backups from unauthorized access during transit and storage.',\n 'Encryption. COMPANY will use cryptographic algorithms that have been published and evaluated by the general cryptographic community with sufficient strength to equate to 128-bit or better.',\n 'Security Breach.',\n 'Definition of Security Breach. “Security Breach” means the actual or suspected unauthorized acquisition, destruction, loss, misappropriation or access to, disclosure, use or modification of Client Data.',\n '',\n '',\n 'Notification of Security Breach. COMPANY will notify Client in accordance with applicable law of any actual or suspected security breach of any Client Data immediately following discovery of a Security Breach, and provide Client with a detailed description of the breach.',\n 'Investigation of Security Breach. COMPANY will:',\n 'promptly investigate each Security Breach,',\n 'take all reasonable steps necessary to limit, stop or otherwise remedy the Security Breach,',\n 'promptly implement appropriate internal technical and procedural controls to reduce the likelihood of a recurrence of a Security Breach, and',\n 'provide Client with documentation detailing the controls implemented.',\n 'Return or Destruction of Data upon Termination.',\n 'COMPANY will maintain a documented process that provides for the security and return or destruction of all Client Data, including copies stored on backup media, in the event the Services um is terminated. Notwithstanding the foregoing, with respect to copies of any of the Client Data retained by COMPANY in any backup tapes (or similar media) that are not easily accessible, COMPANY will continue to maintain the Data on such back-up tapes or other media subject to obligations of confidentiality under this Agreement. In addition, the Client Data will be destroyed or overwritten by COMPANY in the ordinary course of business for such records.',\n '',\n '',\n 'MASTER SERVICES SUBSCRIPTION AGREEMENT',\n 'Exhibit C',\n 'Service Level Agreement',\n 'COMPANY’ service level agreement (“SLA”) for its hosted “software as a service” decision support system (the “Services”) is described below.',\n 'Definitions.',\n '“Emergency Maintenance” means downtime of the Services outside of the Scheduled Maintenance Window hours that is required to complete the application of urgent patches or fixes, or to undertake other urgent maintenance activities. If Emergency Maintenance is required, COMPANY will immediately contact Client and provide the expected start time of the Emergency Maintenance, its planned duration, and whether COMPANY expects the Services to be unavailable during the Emergency Maintenance.',\n '“Monthly Subscription Fee” means one-twelfth of the annual fee applicable to the Services.',\n '“Scheduled Maintenance Window” means the window during which scheduled maintenance of the Services may be performed. There is generally one Scheduled Maintenance Window monthly (currently, the first Friday in the month from 6 PM until 10 PM (Central time)). COMPANY will provide Client with a minimum of five business days advance notification of any Scheduled Maintenance Window. The notification will include the expected start time and duration of the Scheduled Maintenance Window activity.',\n 'COMPANY will use commercially reasonable efforts to schedule any Scheduled Maintenance Window activity during off-business hours.',\n '“Service Credit” means the percentage of the Monthly Services Fee that is awarded to Client for a validated claim related to failure to meet the System Availability objective during that month.',\n '“Service Level Agreement” is specified in Section 3 (“System Availability Service Level Agreement”) of this Exhibit B.',\n '“System Availability” means the percentage of total time during which the Services are available to Client, excluding the Scheduled Maintenance Window and Emergency Maintenance.',\n 'General Terms Applicable to the Service Level Agreement for the Services.',\n 'Service Credits. Service Credits earned by Client hereunder will be applied against fees next due for the Services. If Service Credits cannot be applied to future fees due for the Services because the Agreement has expired or been terminated, COMPANY will promptly pay Client the amount of the credit, provided Client will not receive a refund if COMPANY has terminated the Agreement for Client’s material uncured breach.',\n 'Service Level Agreement Claims.',\n 'Client will have the remedies under this Service Level Agreement commencing 30 days after implementation and go-live of the Services.',\n 'Client must notify COMPANY via email to within five business days from the date of the incident Client first believes entitles it to receive a remedy under this Service Level Agreement set forth below.',\n 'All claims for failure to meet the Service Level Agreement are subject to validation by COMPANY. To validate a claim, COMPANY will use log files, database records, audit logs, and any other available information as the basis for making a good faith judgment on the applicability of Service Credits to said incident. Upon Client’s request, COMPANY will make information used to validate a claim available for auditing by Client.',\n 'The remedies set forth herein represent Client’s sole and exclusive remedy for COMPANY’ breach of the Service Level Agreement defined in this Exhibit.',\n 'Exclusions.',\n 'Client will not have any remedies under this Service Level Agreement in connection with any force majeure event.',\n 'Client will not have any remedies under this Service Level Agreement to the extent a Service Credit claim is due to: (A) use of the Services outside the scope described in the Agreement, (B) Client’s equipment and/or third party software, hardware or network infrastructure outside of COMPANY’ data center and not under the direct control of COMPANY, (C) failure of Client to meet the configuration requirements for Client equipment specified by COMPANY, (D) failure of the external internet beyond COMPANY’ network, (E) any inappropriate actions or inactions of Client or any other third party not under the direct control of COMPANY, or (F) attacks (i.e. hacks, denial of service attacks, malicious introduction of viruses and disabling devices) caused by third parties, provided COMPANY has taken all reasonable steps to prevent such attacks.',\n 'System Availability Service Level Agreement.',\n '',\n '',\n 'System Availability. COMPANY warrants at least 99% System Availability during each calendar month.',\n 'Remedy. If the System Availability is less than 99%, and if Client has fulfilled all of its obligations under the Agreement including this Exhibit, COMPANY will provide Client with a Service Credit applied to the month in which the failure to meet this Service Level Agreement has occurred. The Service Credit will be calculated in accordance with the table below.',\n '',\n '',\n '']"
     },
     "metadata": {},
     "execution_count": 3
    }
   ],
   "source": [
    "import docx\n",
    "\n",
    "# the underlying XML does not make it easy to identify page breaks\n",
    "def get_text_from_docx(filename):\n",
    "    '''\n",
    "    Function that uses python-docx to extract clauses (sentences) from docx.\n",
    "    Loops through document, finds paragraphs\n",
    "    '''\n",
    "    doc = docx.Document(filename)\n",
    "    fullText = []\n",
    "    for para in doc.paragraphs:\n",
    "        fullText.append(para.text)\n",
    "    return fullText\n",
    "get_text_from_docx('/Users/andrewmendez1/Documents/ai-ml-challenge-2020/reference/sample_eula_1.docx')"
   ]
  },
  {
   "cell_type": "code",
   "execution_count": null,
   "metadata": {},
   "outputs": [],
   "source": []
  }
 ],
 "metadata": {
  "language_info": {
   "codemirror_mode": {
    "name": "ipython",
    "version": 3
   },
   "file_extension": ".py",
   "mimetype": "text/x-python",
   "name": "python",
   "nbconvert_exporter": "python",
   "pygments_lexer": "ipython3",
   "version": "3.6.10-final"
  },
  "orig_nbformat": 2,
  "kernelspec": {
   "name": "python361064bitgsaeulaenvcondae052ce93003d41179b492ebba2767ec8",
   "display_name": "Python 3.6.10 64-bit ('gsa_eula_env': conda)"
  }
 },
 "nbformat": 4,
 "nbformat_minor": 2
}