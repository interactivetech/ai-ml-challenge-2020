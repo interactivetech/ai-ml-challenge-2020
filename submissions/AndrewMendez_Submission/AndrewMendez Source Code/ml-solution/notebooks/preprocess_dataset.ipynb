{
 "metadata": {
  "language_info": {
   "codemirror_mode": {
    "name": "ipython",
    "version": 3
   },
   "file_extension": ".py",
   "mimetype": "text/x-python",
   "name": "python",
   "nbconvert_exporter": "python",
   "pygments_lexer": "ipython3",
   "version": 3
  },
  "orig_nbformat": 2,
  "kernelspec": {
   "name": "python_defaultSpec_1597525439564",
   "display_name": "Python 3.6.10 64-bit ('gsa_eula_env': conda)"
  }
 },
 "nbformat": 4,
 "nbformat_minor": 2,
 "cells": [
  {
   "cell_type": "code",
   "execution_count": 1,
   "metadata": {},
   "outputs": [],
   "source": [
    "import pandas as pd\n",
    "import matplotlib.pyplot as plt\n",
    "import numpy as np\n",
    "from sklearn.model_selection import train_test_split\n",
    "%matplotlib inline"
   ]
  },
  {
   "cell_type": "code",
   "execution_count": 2,
   "metadata": {},
   "outputs": [],
   "source": [
    "df = pd.read_csv('../../data/AI_ML_Challenge_Training_Data_Set_1_v1.csv')"
   ]
  },
  {
   "cell_type": "code",
   "execution_count": 3,
   "metadata": {},
   "outputs": [
    {
     "output_type": "execute_result",
     "data": {
      "text/plain": "                                         clause_text  label\n0  18. Governing Law: This Agreement shall be gov...      0\n1  1.8 Modification. We may modify, update, or di...      1\n2  Except as otherwise expressly provided in this...      0\n3  8.3.        The benefit and burdens of this Ag...      1\n4                                        DEFINITIONS      0",
      "text/html": "<div>\n<style scoped>\n    .dataframe tbody tr th:only-of-type {\n        vertical-align: middle;\n    }\n\n    .dataframe tbody tr th {\n        vertical-align: top;\n    }\n\n    .dataframe thead th {\n        text-align: right;\n    }\n</style>\n<table border=\"1\" class=\"dataframe\">\n  <thead>\n    <tr style=\"text-align: right;\">\n      <th></th>\n      <th>clause_text</th>\n      <th>label</th>\n    </tr>\n  </thead>\n  <tbody>\n    <tr>\n      <th>0</th>\n      <td>18. Governing Law: This Agreement shall be gov...</td>\n      <td>0</td>\n    </tr>\n    <tr>\n      <th>1</th>\n      <td>1.8 Modification. We may modify, update, or di...</td>\n      <td>1</td>\n    </tr>\n    <tr>\n      <th>2</th>\n      <td>Except as otherwise expressly provided in this...</td>\n      <td>0</td>\n    </tr>\n    <tr>\n      <th>3</th>\n      <td>8.3.        The benefit and burdens of this Ag...</td>\n      <td>1</td>\n    </tr>\n    <tr>\n      <th>4</th>\n      <td>DEFINITIONS</td>\n      <td>0</td>\n    </tr>\n  </tbody>\n</table>\n</div>"
     },
     "metadata": {},
     "execution_count": 3
    }
   ],
   "source": [
    "df = df.rename(columns={'Clause Text':'clause_text',\"Classification\":'label'})\n",
    "df = df.drop(columns=['Clause ID'])\n",
    "df.head()"
   ]
  },
  {
   "cell_type": "code",
   "execution_count": 4,
   "metadata": {},
   "outputs": [
    {
     "output_type": "execute_result",
     "data": {
      "text/plain": "0    6407\n1    1472\nName: label, dtype: int64"
     },
     "metadata": {},
     "execution_count": 4
    }
   ],
   "source": [
    "df['label'].value_counts()"
   ]
  },
  {
   "cell_type": "markdown",
   "metadata": {},
   "source": [
    "## Preprocess text"
   ]
  },
  {
   "cell_type": "code",
   "execution_count": 5,
   "metadata": {},
   "outputs": [],
   "source": [
    "from nltk.corpus import stopwords\n",
    "from nltk.stem.porter import PorterStemmer\n",
    "import re\n",
    "stop_words = set(stopwords.words('english'))\n",
    "no_nonsense_re = re.compile(r'^[a-zA-Z^508]+$')\n",
    "def strip_nonsense(doc,remove_stop_words=False,port_stem=False):\n",
    "    \"\"\"\n",
    "    Returns stemmed lowercased alpha-only substrings from a string that are b/w 3 and 17 chars long. \n",
    "    It keeps the substring `508`.\n",
    "    \n",
    "    Parameters:\n",
    "        doc (str): the text of a single FBO document.\n",
    "        \n",
    "    Returns:\n",
    "        words (str): a string of space-delimited lower-case alpha-only words (except for `508`)\n",
    "    \"\"\"\n",
    "    \n",
    "    doc = doc.lower()\n",
    "    doc = doc.split()\n",
    "    words = ''\n",
    "    for word in doc:\n",
    "        m = re.match(no_nonsense_re, word)\n",
    "        if m:\n",
    "            match = m.group()\n",
    "            if remove_stop_words and match in stop_words:\n",
    "                continue\n",
    "            else:\n",
    "                if port_stem == True:\n",
    "                    match_len = len(match)\n",
    "                    if match_len <= 17 and match_len >= 3:\n",
    "                        porter = PorterStemmer()\n",
    "                        stemmed = porter.stem(match)\n",
    "                        words += stemmed + ' '\n",
    "                else:\n",
    "                    words+= match+ ' '\n",
    "    return words"
   ]
  },
  {
   "cell_type": "code",
   "execution_count": 6,
   "metadata": {},
   "outputs": [
    {
     "output_type": "execute_result",
     "data": {
      "text/plain": "'\\ncompani warrant softwar period sixti day date perform substanti accord softwar written materi accompani except parti acknowledg softwar provid may function everi machin everi except set forth compani disclaim warranti relat express limit warranti infr third parti merchant fit particular \\nLabel - 1, Acceptable\\n'"
     },
     "metadata": {},
     "execution_count": 6
    }
   ],
   "source": [
    "# Example\n",
    "'''\n",
    "COMPANY warrants that the SOFTWARE will, for a period of sixty (60) days from the date of your receipt, perform substantially in accordance with SOFTWARE written materials accompanying it. Except as just stated,The parties acknowledge that the Software is provided \"\"AS IS,\"\" and may not be functional on every machine or in every environment.  Except as set forth herein,  COMPANY DISCLAIMS ALL WARRANTIES RELATING TO THE SOFTWARE, EXPRESS OR IMPLIED, INCLUDING, BUT NOT LIMITED TO, ANY WARRANTIES AGAINST INFRINGEMENT OF THIRD PARTY RIGHTS, MERCHANTABILITY AND FITNESS FOR A PARTICULAR PURPOSE.\"\n",
    "Label - 1, Not Acceptable\n",
    "'''\n",
    "\n",
    "# not removing stop words\n",
    "\n",
    "'''\n",
    "company warrants that the software for a period of sixty days from the date of your perform substantially in accordance with software written materials accompanying except as just parties acknowledge that the software is provided and may not be functional on every machine or in every except as set forth company disclaims all warranties relating to the express or but not limited any warranties against infringement of third party merchantability and fitness for a particular ,1\n",
    "'''\n",
    "\n",
    "# not include port stemming\n",
    "'''\n",
    "company warrants software period sixty days date perform substantially accordance software written materials accompanying except parties acknowledge software provided may functional every machine every except set forth company disclaims warranties relating express limited warranties infringement third party merchantability fitness particular\n",
    "Label - 1, Not Acceptable\n",
    "'''\n",
    "\n",
    "# if include port stemming\n",
    "'''\n",
    "compani warrant softwar period sixti day date perform substanti accord softwar written materi accompani except parti acknowledg softwar provid may function everi machin everi except set forth compani disclaim warranti relat express limit warranti infr third parti merchant fit particular \n",
    "Label - 1, Acceptable\n",
    "'''"
   ]
  },
  {
   "cell_type": "code",
   "execution_count": 7,
   "metadata": {},
   "outputs": [
    {
     "output_type": "execute_result",
     "data": {
      "text/plain": "Index(['clause_text', 'label'], dtype='object')"
     },
     "metadata": {},
     "execution_count": 7
    }
   ],
   "source": [
    "df.columns"
   ]
  },
  {
   "cell_type": "code",
   "execution_count": 8,
   "metadata": {},
   "outputs": [
    {
     "output_type": "execute_result",
     "data": {
      "text/plain": "0       0\n1       1\n2       0\n3       1\n4       0\n       ..\n7874    0\n7875    1\n7876    0\n7877    0\n7878    1\nName: label, Length: 7879, dtype: int64"
     },
     "metadata": {},
     "execution_count": 8
    }
   ],
   "source": [
    "df['label'].astype(int)"
   ]
  },
  {
   "cell_type": "code",
   "execution_count": 9,
   "metadata": {},
   "outputs": [
    {
     "output_type": "execute_result",
     "data": {
      "text/plain": "13      76\n9       58\n8       54\n12      49\n11      43\n        ..\n1210     1\n1226     1\n1230     1\n1278     1\n4108     1\nName: clause_text, Length: 1718, dtype: int64"
     },
     "metadata": {},
     "execution_count": 9
    }
   ],
   "source": [
    "df['clause_text'].str.len().value_counts()"
   ]
  },
  {
   "cell_type": "code",
   "execution_count": 10,
   "metadata": {},
   "outputs": [
    {
     "output_type": "execute_result",
     "data": {
      "text/plain": "0       governing this agreement shall be governed by ...\n1       we may or discontinue the software any of thei...\n2       except as otherwise expressly provided in this...\n3       the benefit and burdens of this agreement may ...\n4                                            definitions \n                              ...                        \n7874                  the is hereby granted by company a \n7875    this end user license agreement is a binding a...\n7876    the financial cumulative liability of company ...\n7877    the customer acknowledges that all intellectua...\n7878    company software is not that means that compan...\nName: clause_text, Length: 7879, dtype: object"
     },
     "metadata": {},
     "execution_count": 10
    }
   ],
   "source": [
    "df['clause_text'].apply(strip_nonsense)"
   ]
  },
  {
   "cell_type": "code",
   "execution_count": 11,
   "metadata": {},
   "outputs": [],
   "source": [
    "destination_folder = '../../data'\n",
    "train_test_ratio = 0.90 #95/5 split, 95% train, 5% test\n",
    "train_valid_ratio = 0.80 # 80/20 split\n",
    "# preprocess text\n",
    "# lowercase -> removes nonsense -> remove stop words -> Port Stemming (i.e. removes suffix)\n",
    "df['clause_text'] = df['clause_text'].apply(strip_nonsense)\n",
    "df['label'] = df['label'].astype(int)\n",
    "# Drop rows with empty text (i.e. clauses less than two characters)\n",
    "df.drop( df[df['clause_text'].str.len() < 2].index, inplace=True)\n",
    "# split according to label\n",
    "df_good= df[df['label'] == 0]# acceptable, good clauses\n",
    "df_bad = df[df['label'] == 1]# not acceptable, bad clauses\n",
    "# oversample bad class examples to deal with imbalance\n",
    "num_good_examples = df_good.shape[0]\n",
    "df_bad = df_bad.sample(num_good_examples,replace=True)\n",
    "assert df_bad.shape[0] == df_good.shape[0]\n",
    "\n",
    "# train-test split\n",
    "df_good_full_train, df_good_test = train_test_split(df_good, train_size = train_test_ratio, random_state = 1)\n",
    "df_bad_full_train, df_bad_test = train_test_split(df_bad, train_size = train_test_ratio, random_state = 1)\n",
    "# train valid split\n",
    "df_good_train, df_good_valid = train_test_split(df_good_full_train, train_size = train_valid_ratio, random_state = 1)\n",
    "df_bad_train, df_bad_valid = train_test_split(df_bad_full_train, train_size = train_valid_ratio, random_state = 1)\n",
    "\n",
    "# concatenate splits of different labels\n",
    "df_train = pd.concat([df_good_train, df_bad_train], ignore_index=True, sort=False)\n",
    "df_valid = pd.concat([df_good_valid, df_bad_valid], ignore_index=True, sort=False)\n",
    "df_test = pd.concat([df_good_test, df_bad_test], ignore_index=True, sort=False)"
   ]
  },
  {
   "cell_type": "code",
   "execution_count": 12,
   "metadata": {},
   "outputs": [],
   "source": [
    "# Write preprocessed data\n",
    "df_train.to_csv(destination_folder + '/train.csv', index=False)\n",
    "df_valid.to_csv(destination_folder + '/valid.csv', index=False)\n",
    "df_test.to_csv(destination_folder + '/test.csv', index=False)\n",
    "# not acceptable clauses\n",
    "df_bad.to_csv(destination_folder + '/bad.csv', index=False)"
   ]
  },
  {
   "cell_type": "code",
   "execution_count": 14,
   "metadata": {
    "tags": []
   },
   "outputs": [
    {
     "output_type": "stream",
     "name": "stdout",
     "text": "8896\n2224\nclause_text    governing this agreement is governed by the fe...\nlabel                                                          0\nName: 0, dtype: object\n"
    }
   ],
   "source": [
    "print(df_train.shape[0])\n",
    "print(df_valid.shape[0])\n",
    "print(df_test.iloc[0])"
   ]
  },
  {
   "cell_type": "code",
   "execution_count": null,
   "metadata": {},
   "outputs": [],
   "source": []
  }
 ]
}