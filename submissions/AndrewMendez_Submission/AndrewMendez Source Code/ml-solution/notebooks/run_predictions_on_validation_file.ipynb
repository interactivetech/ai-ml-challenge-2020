{
 "metadata": {
  "language_info": {
   "codemirror_mode": {
    "name": "ipython",
    "version": 3
   },
   "file_extension": ".py",
   "mimetype": "text/x-python",
   "name": "python",
   "nbconvert_exporter": "python",
   "pygments_lexer": "ipython3",
   "version": "3.6.10-final"
  },
  "orig_nbformat": 2,
  "kernelspec": {
   "name": "python_defaultSpec_1597612202225",
   "display_name": "Python 3.6.10 64-bit ('gsa_eula_env': conda)"
  }
 },
 "nbformat": 4,
 "nbformat_minor": 2,
 "cells": [
  {
   "cell_type": "markdown",
   "metadata": {},
   "source": [
    "# Run Trained Model on EULA Clauses\n",
    "* Load Model\n",
    "* Extract clauses from pdf and docx\n",
    "* save pdf and dox clauses as pandas dataframe (for visualization)\n",
    "* run each clause through Model\n",
    "* display prediction and confidence\n"
   ]
  },
  {
   "cell_type": "code",
   "execution_count": 70,
   "metadata": {},
   "outputs": [],
   "source": [
    "# For Loading BERT trained model\n",
    "from torchtext.data import Field, TabularDataset, BucketIterator, Iterator\n",
    "\n",
    "\n",
    "import matplotlib.pyplot as plt\n",
    "# for pdf and docx extraction\n",
    "import pandas as pd\n",
    "from pdfminer.pdfinterp import PDFResourceManager, PDFPageInterpreter#process_pdf\n",
    "from pdfminer.pdfpage import PDFPage\n",
    "from pdfminer.converter import TextConverter\n",
    "from pdfminer.layout import LAParams\n",
    "from io import StringIO\n",
    "import docx\n",
    "from tqdm import tqdm\n",
    "# for stripping and preprocessing text\n",
    "from nltk.corpus import stopwords\n",
    "from nltk.stem.porter import PorterStemmer\n",
    "import re\n",
    "stop_words = set(stopwords.words('english'))\n",
    "no_nonsense_re = re.compile(r'^[a-zA-Z^508]+$')\n"
   ]
  },
  {
   "cell_type": "markdown",
   "metadata": {},
   "source": [
    "## Load Model"
   ]
  },
  {
   "cell_type": "code",
   "execution_count": 45,
   "metadata": {},
   "outputs": [],
   "source": [
    "class BERT(nn.Module):\n",
    "\n",
    "    def __init__(self):\n",
    "        super(BERT, self).__init__()\n",
    "\n",
    "        options_name = \"bert-base-uncased\"\n",
    "        self.encoder = BertForSequenceClassification.from_pretrained(options_name)\n",
    "\n",
    "    def forward(self, text, label):\n",
    "        loss, text_fea = self.encoder(text, labels=label)[:2]\n",
    "\n",
    "        return loss, text_fea\n",
    "def load_checkpoint(load_path, model,device):\n",
    "    \n",
    "    if load_path==None:\n",
    "        return\n",
    "    \n",
    "    state_dict = torch.load(load_path, map_location=device)\n",
    "    print(f'Model loaded from <== {load_path}')\n",
    "    \n",
    "    model.load_state_dict(state_dict['model_state_dict'])\n",
    "    return state_dict['valid_loss']\n",
    "def predict(model,inputs):\n",
    "    #print('model(inputs): ', model(inputs))\n",
    "    return model.encoder(inputs)[0]\n",
    "def custom_forward(model,inputs):\n",
    "    preds = predict(model,inputs)\n",
    "    return torch.softmax(preds, dim = 1)[:, 0] # for negative attribution, torch.softmax(preds, dim = 1)[:, 1] <- for positive \n"
   ]
  },
  {
   "cell_type": "code",
   "execution_count": 7,
   "metadata": {
    "tags": []
   },
   "outputs": [
    {
     "output_type": "stream",
     "name": "stdout",
     "text": "cpu\n"
    }
   ],
   "source": [
    "device = torch.device('cuda:0' if torch.cuda.is_available() else 'cpu')\n",
    "print(device)"
   ]
  },
  {
   "cell_type": "code",
   "execution_count": 126,
   "metadata": {
    "tags": []
   },
   "outputs": [
    {
     "output_type": "stream",
     "name": "stderr",
     "text": "Some weights of the model checkpoint at bert-base-uncased were not used when initializing BertForSequenceClassification: ['cls.predictions.bias', 'cls.predictions.transform.dense.weight', 'cls.predictions.transform.dense.bias', 'cls.predictions.decoder.weight', 'cls.seq_relationship.weight', 'cls.seq_relationship.bias', 'cls.predictions.transform.LayerNorm.weight', 'cls.predictions.transform.LayerNorm.bias']\n- This IS expected if you are initializing BertForSequenceClassification from the checkpoint of a model trained on another task or with another architecture (e.g. initializing a BertForSequenceClassification model from a BertForPretraining model).\n- This IS NOT expected if you are initializing BertForSequenceClassification from the checkpoint of a model that you expect to be exactly identical (initializing a BertForSequenceClassification model from a BertForSequenceClassification model).\nSome weights of BertForSequenceClassification were not initialized from the model checkpoint at bert-base-uncased and are newly initialized: ['classifier.weight', 'classifier.bias']\nYou should probably TRAIN this model on a down-stream task to be able to use it for predictions and inference.\nModel loaded from <== /Users/andrewmendez1/Documents/ai-ml-challenge-2020/data/Finetune BERT oversampling 8_16_2020/Model_1_4_0/model.pt\n"
    }
   ],
   "source": [
    "def load_model_and_tokenizer(path_to_model, device):\n",
    "    '''\n",
    "    function to load pretrained model and tokenizer\n",
    "    '''\n",
    "    best_model = BERT().to(device)\n",
    "\n",
    "    load_checkpoint(path_to_model + '/model.pt', best_model,device)\n",
    "    tokenizer = BertTokenizer.from_pretrained('bert-base-uncased')\n",
    "    return best_model,tokenizer\n",
    "PATH_TO_MODEL = '/Users/andrewmendez1/Documents/ai-ml-challenge-2020/data/Finetune BERT oversampling 8_16_2020/Model_1_4_0'\n",
    "best_model,tokenizer = load_model_and_tokenizer(PATH_TO_MODEL,device)"
   ]
  },
  {
   "cell_type": "code",
   "execution_count": 49,
   "metadata": {},
   "outputs": [],
   "source": [
    "# best_model.encoder"
   ]
  },
  {
   "cell_type": "code",
   "execution_count": null,
   "metadata": {},
   "outputs": [],
   "source": []
  },
  {
   "cell_type": "markdown",
   "metadata": {},
   "source": [
    "## Extract Clauses from pdf and docx"
   ]
  },
  {
   "cell_type": "code",
   "execution_count": 23,
   "metadata": {},
   "outputs": [],
   "source": [
    "\n",
    "def strip_nonsense(doc,remove_stop_words=False,port_stem=False):\n",
    "    \"\"\"\n",
    "    Returns stemmed lowercased alpha-only substrings from a string\n",
    "    \n",
    "    Parameters:\n",
    "        doc (str): the text of a single FBO document.\n",
    "        \n",
    "    Returns:\n",
    "        words (str): a string of space-delimited lower-case alpha-only words (except for `508`)\n",
    "    \"\"\"\n",
    "    \n",
    "    doc = doc.lower()\n",
    "    doc = doc.split()\n",
    "    words = ''\n",
    "    for word in doc:\n",
    "        m = re.match(no_nonsense_re, word)\n",
    "        if m:\n",
    "            match = m.group()\n",
    "            if remove_stop_words and match in stop_words:\n",
    "                continue\n",
    "            else:\n",
    "                if port_stem == True:\n",
    "                    match_len = len(match)\n",
    "                    if match_len <= 17 and match_len >= 3:\n",
    "                        porter = PorterStemmer()\n",
    "                        stemmed = porter.stem(match)\n",
    "                        words += stemmed + ' '\n",
    "                else:\n",
    "                    words+= match+ ' '\n",
    "    return words\n",
    "def extract_clauses_from_pdf(path_to_pdf):\n",
    "    '''\n",
    "    Extracts clauses from pdf\n",
    "    First segments PDF into pages\n",
    "    Then extracts clauses from all paragraphs in page\n",
    "    '''\n",
    "    fp = open(path_to_pdf, 'rb')\n",
    "    rsrcmgr = PDFResourceManager()\n",
    "    retstr = StringIO()\n",
    "    # print(type(retstr))\n",
    "    codec = 'utf-8'\n",
    "    laparams = LAParams(line_margin=0.1)\n",
    "    device = TextConverter(rsrcmgr, retstr, codec=codec, laparams=laparams)\n",
    "    interpreter = PDFPageInterpreter(rsrcmgr, device)\n",
    "\n",
    "    page_no = 0\n",
    "    pages = []\n",
    "    for pageNumber, page in enumerate(PDFPage.get_pages(fp)):\n",
    "        print('Processing page {} from {}'.format(page_no,path_to_pdf))\n",
    "        # if pageNumber == page_no:\n",
    "        interpreter.process_page(page)\n",
    "\n",
    "        data = retstr.getvalue()\n",
    "        pages.append(data)\n",
    "\n",
    "        # with open(os.path.join('Files/Company_list/0010/text_parsed/2017AR', f'pdf page {page_no}.txt'), 'wb') as file:\n",
    "        #     file.write(data.encode('utf-8'))\n",
    "        data = ''\n",
    "        retstr.truncate(0)\n",
    "        retstr.seek(0)\n",
    "\n",
    "        page_no += 1\n",
    "    # split pages into claues\n",
    "    clauses_per_page = []\n",
    "    for p in pages:\n",
    "        clauses_unormalized = [i.replace(\"\\n\",\" \") for i in p.split(\"\\n\\n\")]\n",
    "        clauses_per_page.append(clauses_unormalized)\n",
    "    return clauses_per_page\n",
    "\n",
    "# the underlying XML does not make it easy to identify page breaks\n",
    "def get_text_from_docx(filename):\n",
    "    '''\n",
    "    Function that uses python-docx to extract clauses (sentences) from docx.\n",
    "    Loops through document, finds paragraphs\n",
    "    '''\n",
    "    doc = docx.Document(filename)\n",
    "    fullText = []\n",
    "    for para in doc.paragraphs:\n",
    "        clause = para.text\n",
    "        clause = strip_nonsense(clause)\n",
    "        if len(clause)>2:\n",
    "            fullText.append(clause)\n",
    "    return fullText\n",
    "def preprocess_clauses_pdf(pages):\n",
    "    '''\n",
    "    preprocess clauses\n",
    "    '''\n",
    "    clauses = []\n",
    "    for p in pages:\n",
    "        for clause in p:\n",
    "            # do not include if length < 2\n",
    "            clause_normalized = strip_nonsense(clause)\n",
    "            if len(clause_normalized) >2:# append if has at least one word\n",
    "                clauses.append(clause_normalized)\n",
    "            # stip nonsense\n",
    "    return clauses\n",
    "# get_text_from_docx('/Users/andrewmendez1/Documents/ai-ml-challenge-2020/reference/sample_eula_1.docx')\n",
    "# pages = extract_clauses_from_pdf('../reference/sample_eula_1.pdf')"
   ]
  },
  {
   "cell_type": "code",
   "execution_count": 21,
   "metadata": {
    "tags": []
   },
   "outputs": [
    {
     "output_type": "stream",
     "name": "stdout",
     "text": "Processing page 0 from /Users/andrewmendez1/Documents/ai-ml-challenge-2020/reference/sample_eula_1.pdf\nProcessing page 1 from /Users/andrewmendez1/Documents/ai-ml-challenge-2020/reference/sample_eula_1.pdf\nProcessing page 2 from /Users/andrewmendez1/Documents/ai-ml-challenge-2020/reference/sample_eula_1.pdf\nProcessing page 3 from /Users/andrewmendez1/Documents/ai-ml-challenge-2020/reference/sample_eula_1.pdf\nProcessing page 4 from /Users/andrewmendez1/Documents/ai-ml-challenge-2020/reference/sample_eula_1.pdf\nProcessing page 5 from /Users/andrewmendez1/Documents/ai-ml-challenge-2020/reference/sample_eula_1.pdf\nProcessing page 6 from /Users/andrewmendez1/Documents/ai-ml-challenge-2020/reference/sample_eula_1.pdf\nProcessing page 7 from /Users/andrewmendez1/Documents/ai-ml-challenge-2020/reference/sample_eula_1.pdf\nProcessing page 8 from /Users/andrewmendez1/Documents/ai-ml-challenge-2020/reference/sample_eula_1.pdf\nProcessing page 9 from /Users/andrewmendez1/Documents/ai-ml-challenge-2020/reference/sample_eula_1.pdf\nProcessing page 10 from /Users/andrewmendez1/Documents/ai-ml-challenge-2020/reference/sample_eula_1.pdf\nProcessing page 11 from /Users/andrewmendez1/Documents/ai-ml-challenge-2020/reference/sample_eula_1.pdf\nProcessing page 12 from /Users/andrewmendez1/Documents/ai-ml-challenge-2020/reference/sample_eula_1.pdf\n"
    }
   ],
   "source": [
    "pages_pdf = extract_clauses_from_pdf('/Users/andrewmendez1/Documents/ai-ml-challenge-2020/reference/sample_eula_1.pdf')"
   ]
  },
  {
   "cell_type": "code",
   "execution_count": 22,
   "metadata": {},
   "outputs": [],
   "source": [
    "clauses_docx = get_text_from_docx('/Users/andrewmendez1/Documents/ai-ml-challenge-2020/reference/sample_eula_1.docx')\n",
    "clauses_pdf = preprocess_clauses_pdf(pages_pdf)"
   ]
  },
  {
   "cell_type": "code",
   "execution_count": 25,
   "metadata": {
    "tags": []
   },
   "outputs": [
    {
     "output_type": "stream",
     "name": "stdout",
     "text": "493\n183\n"
    }
   ],
   "source": [
    "print(len(clauses_pdf))\n",
    "print(len(clauses_docx))"
   ]
  },
  {
   "cell_type": "markdown",
   "metadata": {},
   "source": [
    "## (DONT DO) Save pdf and docx as pandas data frame"
   ]
  },
  {
   "cell_type": "code",
   "execution_count": null,
   "metadata": {},
   "outputs": [],
   "source": []
  },
  {
   "cell_type": "markdown",
   "metadata": {},
   "source": [
    "## Run Each Clause through model, display prediction and confidence"
   ]
  },
  {
   "cell_type": "code",
   "execution_count": 39,
   "metadata": {},
   "outputs": [
    {
     "output_type": "execute_result",
     "data": {
      "text/plain": "'annual basis at request including any changes that have been made to the plan since the prior company will also ensure '"
     },
     "metadata": {},
     "execution_count": 39
    }
   ],
   "source": [
    "ref_token_id = tokenizer.pad_token_id # A token used for generating token reference\n",
    "sep_token_id = tokenizer.sep_token_id # A token used as a separator between question and text and it is also added to the end of the text.\n",
    "cls_token_id = tokenizer.cls_token_id # A token used for prepending to the concatenated question-text word sequence\n",
    "\n",
    "clauses_pdf[70]"
   ]
  },
  {
   "cell_type": "code",
   "execution_count": 67,
   "metadata": {
    "tags": []
   },
   "outputs": [],
   "source": [
    "# text = clauses_pdf[70]\n",
    "text = 'company warrants that the software for a period of sixty days from the date of your perform substantially in accordance with software written materials accompanying except as just parties acknowledge that the software is provided and may not be functional on every machine or in every except as set forth company disclaims all warranties relating to the express or but not limited any warranties against infringement of third party merchantability and fitness for a particular'\n",
    "def tokenize_text(text):\n",
    "    text_ids = tokenizer.encode(text, add_special_tokens=False, truncation=True, max_length=128)\n",
    "    input_ids = [cls_token_id] + text_ids + [sep_token_id]\n",
    "    input_ids = torch.tensor([input_ids], device=device)\n",
    "    return input_ids\n",
    "input_ids = tokenize_text(text)"
   ]
  },
  {
   "cell_type": "code",
   "execution_count": 60,
   "metadata": {
    "tags": []
   },
   "outputs": [
    {
     "output_type": "stream",
     "name": "stdout",
     "text": "Sentence:  annual basis at request including any changes that have been made to the plan since the prior company will also ensure \nClassification: 0, Probability Not acceptable (Positive Class): 0.03749417\n"
    }
   ],
   "source": [
    "score = predict(best_model,input_ids)\n",
    "\n",
    "print('Sentence: ', text)\n",
    "pred_label = torch.argmax(score[0]).cpu().numpy()\n",
    "print('Classification: ' + str(pred_label) + \\\n",
    "      ', Probability Not acceptable (Positive Class): ' + str(torch.softmax(score, dim = 1)[0][1].cpu().detach().numpy()))"
   ]
  },
  {
   "cell_type": "code",
   "execution_count": 68,
   "metadata": {
    "tags": []
   },
   "outputs": [
    {
     "output_type": "stream",
     "name": "stdout",
     "text": "Classification: 1, Confidence: 0.9458168745040894\n"
    }
   ],
   "source": [
    "def get_prediction_and_confidence(model,text):\n",
    "    '''\n",
    "    pass text and return prediction label and confidence\n",
    "    '''\n",
    "    text_ids = tokenize_text(text)\n",
    "    score = predict(model,text_ids)\n",
    "    pred_label = torch.argmax(score[0]).cpu().numpy()\n",
    "    confidence = torch.softmax(score, dim = 1)[0][pred_label].cpu().detach().numpy()\n",
    "    return pred_label,confidence\n",
    "pred, confidence = get_prediction_and_confidence(best_model,text)\n",
    "print(\"Classification: {}, Confidence: {}\".format(pred, confidence))\n",
    "\n"
   ]
  },
  {
   "cell_type": "markdown",
   "metadata": {},
   "source": [
    "## Process all clauses in PDF"
   ]
  },
  {
   "cell_type": "code",
   "execution_count": 82,
   "metadata": {
    "tags": []
   },
   "outputs": [
    {
     "output_type": "stream",
     "name": "stderr",
     "text": "100%|██████████| 493/493 [02:00<00:00,  4.09it/s]\n"
    }
   ],
   "source": [
    "classifications_pdf = []\n",
    "for clause in tqdm(clauses_pdf):\n",
    "    pred,confidence = get_prediction_and_confidence(best_model,clause)\n",
    "    classifications_pdf.append([clause,int(pred),float(confidence)])\n"
   ]
  },
  {
   "cell_type": "code",
   "execution_count": 79,
   "metadata": {},
   "outputs": [
    {
     "output_type": "execute_result",
     "data": {
      "text/plain": "['company warrants that the software for a period of sixty days from the date of your perform substantially in accordance with software written materials accompanying except as just parties acknowledge that the software is provided and may not be functional on every machine or in every except as set forth company disclaims all warranties relating to the express or but not limited any warranties against infringement of third party merchantability and fitness for a particular',\n '1',\n '0.9458169']"
     },
     "metadata": {},
     "execution_count": 79
    }
   ],
   "source": [
    "classifications_pdf[0]"
   ]
  },
  {
   "cell_type": "markdown",
   "metadata": {},
   "source": [
    "## Process all clauses in DOCX"
   ]
  },
  {
   "cell_type": "code",
   "execution_count": 83,
   "metadata": {
    "tags": []
   },
   "outputs": [
    {
     "output_type": "stream",
     "name": "stderr",
     "text": "100%|██████████| 493/493 [01:47<00:00,  4.57it/s]\n"
    }
   ],
   "source": [
    "classifications_docx = []\n",
    "for clause in tqdm(clauses_pdf):\n",
    "    pred,confidence = get_prediction_and_confidence(best_model,clause)\n",
    "    classifications_docx.append([clause,int(pred),float(confidence)])"
   ]
  },
  {
   "cell_type": "code",
   "execution_count": 88,
   "metadata": {
    "tags": []
   },
   "outputs": [
    {
     "output_type": "stream",
     "name": "stdout",
     "text": "['contract clause this agreement may only be amended in a writing signed by both ', 1, 0.5321720838546753]\n['availability and use of the company will make the services available to client in accordance with each order form entered ', 1, 0.6579024791717529]\n['changes to the company may make modifications and enhancements to the services from time to ', 1, 0.9722101092338562]\n['presented to client for review and will not be effective unless and until both parties sign a written agreement updating these ', 1, 0.6191073656082153]\n['with respect to long term company follows industry standard best practices in having monthly and seven yearly ', 1, 0.853610098361969]\n['center providers utilized in the provision of the services to client acknowledges and agrees that all reviews constitute ', 1, 0.9768471121788025]\n['confidential information of company recognizes that federal agencies are subject to the freedom of information 5 ', 1, 0.9160873293876648]\n['order client will order services by signing an order in the event that business practices require a purchase ', 1, 0.9424518942832947]\n['order number be issued prior to payment of any company invoices issued pursuant to an order client will promptly provide that ', 1, 0.8041076064109802]\n['upon with client agrees to notify company immediately of any unauthorized use of any password or account or any other known ', 1, 0.9725448489189148]\n['use of the client agrees to use the services solely for its internal business purposes in accordance with applicable client ', 1, 0.9316431283950806]\n['additional payment all payments will be made in fees are due within days from receipt of ', 1, 0.9551600217819214]\n['excludes all state and local taxes levied on or measured by this agreement or sales price of the services furnished under this ', 1, 0.6982375979423523]\n['agrees either to pay to company amounts covering such taxes or to provide evidence tax exemption necessary to sustain ', 1, 0.87358558177948]\n['greater than that for which client company will invoice client for additional fees for the period of such additional and ', 1, 0.9652377367019653]\n['client will pay fees owed in accordance with this ', 1, 0.9898298382759094]\n['does not convey to client any rights of ownership in or related to the except for the limited rights and licenses expressly granted ', 1, 0.5252731442451477]\n['company warrants ', 1, 0.6759468913078308]\n['if company is unable to do terminate access to the services and return the contract price paid for the services ', 1, 0.9833872318267822]\n['a copy of which is attached as exhibit in the event of any failure to meet this company will provide the refund ', 1, 0.9704506993293762]\n['company agrees to use commercially reasonable efforts to take all actions it deems appropriate to remedy and avoid such ', 1, 0.9235052466392517]\n['company cannot guarantee that such events will not company disclaims any and all liability resulting from ', 1, 0.8885886073112488]\n['specifically includes in the case of the client and in the case of the company and the ', 1, 0.9626401662826538]\n['disclosing party with prior notice of the compelled disclosure the extent legally and reasonable at the disclosing ', 1, 0.9125086665153503]\n['if the disclosing party wishes to contest the ', 1, 0.8695336580276489]\n['respective attorneys and independent contractors who have access to such confidential information to hold it ', 1, 0.9331632852554321]\n['no injunctive no injunctive relief will be available against either party in connection with the services or this see ', 1, 0.9755398035049438]\n['indemnification company will defend client from and against all suits or actions arising out of or resulting ', 1, 0.9929617047309875]\n['from any action against client that is based on any third party claim that use of the services as authorized in this agreement infringes that ', 1, 0.9270573258399963]\n['united states or trade and will pay the amount of any final judgment awarded reasonable ', 1, 0.9744771122932434]\n['fees and or final settlement made with respect to such claim provided that company is notified promptly by the client in ', 1, 0.9333937764167786]\n['company at its either procure for client the right to continue using the services or replace or modify the ', 1, 0.7743186950683594]\n['company may terminate right to use the services and release client from its obligation to make future payments for the ', 1, 0.9873491525650024]\n['services or issue a pro rata refund for any fees paid in the foregoing states the entire obligation and liability of company with ', 1, 0.6337418556213379]\n['no indemnification by client will not have any indemnification or defense obligations to company or any third party in ', 1, 0.665239155292511]\n['indemnification obligations under section and obligation to pay amounts due under this neither party ', 1, 0.9350184798240662]\n['will be liable for punitive or special regardless of whether such liability is based on breach of ', 1, 0.8519188165664673]\n['in no event will either cumulative liability arising out of or related to this regardless of the form of action that ', 1, 0.8050245642662048]\n['imposes in the for one year of subscription fees for the services under the order form which are ', 1, 0.6997534036636353]\n['the subject of the and for professional fees paid pursuant to the statement of work under the order form which was ', 1, 0.7478901147842407]\n['this agreement commences on the effective date specified on the first page of this agreement and remains in effect until all ', 1, 0.8725278377532959]\n['services added to an existing the added services will be billed on a basis and will be coterminous with the initial ', 1, 0.9112650156021118]\n['service term or applicable renewal service term of that order unless otherwise agreed to by the ', 1, 0.9720553159713745]\n['no automatic no act client will not be under any automatic renewal obligations in connection with the services or any other obligations that would violate the act ', 1, 0.9894773364067078]\n['federal tort claims act or as a dispute under the contract disputes clause disputes as company shall proceed ', 1, 0.7637179493904114]\n['the client data available for download provided client is not in breach of this agreement and has paid all fees due under this agreement in ', 1, 0.977972149848938]\n['any dispute between company and client in connection with this agreement will be resolved in accordance with far ', 1, 0.7915165424346924]\n['government restricted the services are provided with restricted duplication or disclosure by the ', 1, 0.9662011861801147]\n['government is subject to restrictions as set forth in the rights in technical data and computer software clause at dfars ', 1, 0.9524386525154114]\n['client may from time to time provide comments or other feedback to company with respect ', 1, 0.9642176628112793]\n['this agreement and any feedback provided as a result of this agreement in advertising is limited by gsar ', 1, 0.9643740653991699]\n['employment relationship between the parties is created there are no third party beneficiaries to this ', 1, 0.9850744009017944]\n['force excusable delays shall be governed by far ', 1, 0.8328016400337219]\n['neither party may assign this agreement or otherwise transfer any of its rights or obligations in whole or in ', 1, 0.9177806973457336]\n['case management clients may create and view case history related to their past cases viewed in this ', 1, 0.6098408102989197]\n['problem client will promptly notify company regarding issues with the services through the client by telephone ', 1, 0.533118724822998]\n['company and client will work together to resolve the this may but is not limited ', 1, 0.9737981557846069]\n['company endeavors to investigate and correct issues at if company is unable to do and provided the ', 1, 0.8774551153182983]\n['company may travel to location to investigate the issue with travel and other expenses included as part of ', 1, 0.9340105056762695]\n['the problem resolution will be responsibility and client agrees to pay any travel expenses in accordance with federal ', 1, 0.9873026609420776]\n['travel regulation travel regulations as client shall only be liable for such travel expenses as approved as ', 1, 0.9529948830604553]\n['to be reimbursed consistent with travel customer service engineer will notify a caller as soon as the ', 1, 0.6538271903991699]\n['billable status of the call is the caller may terminate the call at that time without ', 1, 0.6366593241691589]\n['address the integrity and confidentiality of client ', 1, 0.9427152872085571]\n['person that is the subject of the client and ', 1, 0.9656410813331604]\n['protect against anticipated threats or hazards to the security or integrity of client ', 1, 0.7056906819343567]\n['means the percentage of the monthly services fee that is awarded to client for a validated claim related to failure to ', 1, 0.8841375708580017]\n['service service credits earned by client hereunder will be applied against fees next due for the if service credits ', 1, 0.7806500196456909]\n['pay client the amount of the provided client will not receive a refund if company has terminated the agreement for ', 1, 0.9771263003349304]\n['client must notify company via email to within five business days from the date of the incident ', 1, 0.8192278146743774]\n['client will not have any remedies under this service level agreement to the extent a service credit claim is due use of ', 1, 0.579441487789154]\n['any inappropriate actions or inactions of client or any other third party not under the direct control of ', 1, 0.9657201170921326]\n['company will provide client with a service credit applied to the month in which the failure to meet this service level ', 1, 0.8014154434204102]\n"
    }
   ],
   "source": [
    "for i in classifications_pdf:\n",
    "    if i[1]==1:\n",
    "        print(i)"
   ]
  },
  {
   "cell_type": "code",
   "execution_count": 114,
   "metadata": {},
   "outputs": [
    {
     "output_type": "execute_result",
     "data": {
      "text/plain": "   0  1  2\n0  0  1  2\n1  3  4  5\n2  6  7  8",
      "text/html": "<div>\n<style scoped>\n    .dataframe tbody tr th:only-of-type {\n        vertical-align: middle;\n    }\n\n    .dataframe tbody tr th {\n        vertical-align: top;\n    }\n\n    .dataframe thead th {\n        text-align: right;\n    }\n</style>\n<table border=\"1\" class=\"dataframe\">\n  <thead>\n    <tr style=\"text-align: right;\">\n      <th></th>\n      <th>0</th>\n      <th>1</th>\n      <th>2</th>\n    </tr>\n  </thead>\n  <tbody>\n    <tr>\n      <th>0</th>\n      <td>0</td>\n      <td>1</td>\n      <td>2</td>\n    </tr>\n    <tr>\n      <th>1</th>\n      <td>3</td>\n      <td>4</td>\n      <td>5</td>\n    </tr>\n    <tr>\n      <th>2</th>\n      <td>6</td>\n      <td>7</td>\n      <td>8</td>\n    </tr>\n  </tbody>\n</table>\n</div>"
     },
     "metadata": {},
     "execution_count": 114
    }
   ],
   "source": [
    "pd.DataFrame(np.arange(9).reshape(3,3))"
   ]
  },
  {
   "cell_type": "code",
   "execution_count": 120,
   "metadata": {},
   "outputs": [
    {
     "output_type": "error",
     "ename": "NameError",
     "evalue": "name 'predictions' is not defined",
     "traceback": [
      "\u001b[0;31m---------------------------------------------------------------------------\u001b[0m",
      "\u001b[0;31mNameError\u001b[0m                                 Traceback (most recent call last)",
      "\u001b[0;32m<ipython-input-120-65dad9758159>\u001b[0m in \u001b[0;36m<module>\u001b[0;34m\u001b[0m\n\u001b[0;32m----> 1\u001b[0;31m \u001b[0mnp\u001b[0m\u001b[0;34m.\u001b[0m\u001b[0marray\u001b[0m\u001b[0;34m(\u001b[0m\u001b[0mpredictions\u001b[0m\u001b[0;34m)\u001b[0m\u001b[0;34m.\u001b[0m\u001b[0mshape\u001b[0m\u001b[0;34m\u001b[0m\u001b[0;34m\u001b[0m\u001b[0m\n\u001b[0m",
      "\u001b[0;31mNameError\u001b[0m: name 'predictions' is not defined"
     ]
    }
   ],
   "source": [
    "np.array(predictions).shape"
   ]
  },
  {
   "cell_type": "code",
   "execution_count": 123,
   "metadata": {},
   "outputs": [
    {
     "output_type": "execute_result",
     "data": {
      "text/plain": "                                                  text classification  \\\n0              master services subscription agreement               0   \n1                                          full legal               0   \n2                                             company               0   \n3                                     business entity               0   \n4                                         corporation               0   \n..                                                 ...            ...   \n488  company will provide client with a service cre...              1   \n489  agreement has the service credit will be calcu...              0   \n490         of system availability per calendar month               0   \n491                                    service credit               0   \n492                                           company               0   \n\n             confidence  \n0    0.8188013434410095  \n1    0.8465394973754883  \n2    0.7949044108390808  \n3    0.9038620591163635  \n4    0.8643710613250732  \n..                  ...  \n488  0.8014154434204102  \n489  0.8918464779853821  \n490  0.9904935956001282  \n491  0.8602070212364197  \n492  0.7949044108390808  \n\n[493 rows x 3 columns]",
      "text/html": "<div>\n<style scoped>\n    .dataframe tbody tr th:only-of-type {\n        vertical-align: middle;\n    }\n\n    .dataframe tbody tr th {\n        vertical-align: top;\n    }\n\n    .dataframe thead th {\n        text-align: right;\n    }\n</style>\n<table border=\"1\" class=\"dataframe\">\n  <thead>\n    <tr style=\"text-align: right;\">\n      <th></th>\n      <th>text</th>\n      <th>classification</th>\n      <th>confidence</th>\n    </tr>\n  </thead>\n  <tbody>\n    <tr>\n      <th>0</th>\n      <td>master services subscription agreement</td>\n      <td>0</td>\n      <td>0.8188013434410095</td>\n    </tr>\n    <tr>\n      <th>1</th>\n      <td>full legal</td>\n      <td>0</td>\n      <td>0.8465394973754883</td>\n    </tr>\n    <tr>\n      <th>2</th>\n      <td>company</td>\n      <td>0</td>\n      <td>0.7949044108390808</td>\n    </tr>\n    <tr>\n      <th>3</th>\n      <td>business entity</td>\n      <td>0</td>\n      <td>0.9038620591163635</td>\n    </tr>\n    <tr>\n      <th>4</th>\n      <td>corporation</td>\n      <td>0</td>\n      <td>0.8643710613250732</td>\n    </tr>\n    <tr>\n      <th>...</th>\n      <td>...</td>\n      <td>...</td>\n      <td>...</td>\n    </tr>\n    <tr>\n      <th>488</th>\n      <td>company will provide client with a service cre...</td>\n      <td>1</td>\n      <td>0.8014154434204102</td>\n    </tr>\n    <tr>\n      <th>489</th>\n      <td>agreement has the service credit will be calcu...</td>\n      <td>0</td>\n      <td>0.8918464779853821</td>\n    </tr>\n    <tr>\n      <th>490</th>\n      <td>of system availability per calendar month</td>\n      <td>0</td>\n      <td>0.9904935956001282</td>\n    </tr>\n    <tr>\n      <th>491</th>\n      <td>service credit</td>\n      <td>0</td>\n      <td>0.8602070212364197</td>\n    </tr>\n    <tr>\n      <th>492</th>\n      <td>company</td>\n      <td>0</td>\n      <td>0.7949044108390808</td>\n    </tr>\n  </tbody>\n</table>\n<p>493 rows × 3 columns</p>\n</div>"
     },
     "metadata": {},
     "execution_count": 123
    }
   ],
   "source": [
    "import numpy as np\n",
    "def save_list_as_dataframe(predictions, columns):\n",
    "    '''\n",
    "    Save Predictions as a Pandas Data Frame\n",
    "    '''\n",
    "    df = pd.DataFrame(np.array(predictions))\n",
    "    df.columns = columns\n",
    "    return df\n",
    "\n",
    "df = save_list_as_dataframe(classifications_docx,['text','classification','confidence'])"
   ]
  },
  {
   "cell_type": "code",
   "execution_count": null,
   "metadata": {},
   "outputs": [],
   "source": [
    "# df.save_csv('')"
   ]
  }
 ]
}